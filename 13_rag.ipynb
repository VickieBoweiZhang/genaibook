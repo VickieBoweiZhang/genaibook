{
  "cells": [
    {
      "cell_type": "markdown",
      "metadata": {
        "id": "view-in-github",
        "colab_type": "text"
      },
      "source": [
        "<a href=\"https://colab.research.google.com/github/VickieBoweiZhang/genaibook/blob/main/13_rag.ipynb\" target=\"_parent\"><img src=\"https://colab.research.google.com/assets/colab-badge.svg\" alt=\"Open In Colab\"/></a>"
      ]
    },
    {
      "cell_type": "markdown",
      "metadata": {
        "id": "PH9BnjXUn8tL"
      },
      "source": [
        "# Appendix C. End-to-End Retrieval-Augmented Generation 端到端检索增强生成\n"
      ]
    },
    {
      "cell_type": "markdown",
      "metadata": {
        "id": "PfNkTNuin8tN"
      },
      "source": [
        "This notebook is a supplementary material for the Appendix C of the [Hands-On Generative AI with Transformers and Diffusion Models book](https://learning.oreilly.com/library/view/hands-on-generative-ai/9781098149239/)."
      ]
    },
    {
      "cell_type": "markdown",
      "source": [
        "一个典型的 RAG 系统的组件包括：\n",
        "1. Query：用户输入一个问题\n",
        "2. Retriever：pipeline 从外部存储信息当中检索与问题最相似的信息（文档，上下文等）\n",
        "3. pipeline 将问题和检索到的信息同时传递给 Model\n",
        "4. Model 生成回答\n",
        "\n",
        "\n",
        "\n",
        "![RAG Pipeline](data:image/png;base64,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)"
      ],
      "metadata": {
        "id": "2x93zVYJoVwE"
      }
    },
    {
      "cell_type": "markdown",
      "metadata": {
        "id": "fqHT57ahn8tN"
      },
      "source": [
        "## 外部数据处理\n",
        "\n",
        "与任何机器学习项目一样，第一步是加载数据并进行处理。我们将保持简单，专注于一个单一主题。想象一下，我们希望我们的模型生成与欧盟人工智能法案相关的内容，由于我们将使用的模型是在人工智能法案开始之前训练的，因此这不太可能包含在LLM的训练数据中。首先，我们将用下面的脚本加载一个实例文档。\n",
        "\n",
        "这个文档是欧盟人工智能法案的 pdf 文档，可以直接下载\n"
      ]
    },
    {
      "cell_type": "code",
      "execution_count": 1,
      "metadata": {
        "colab": {
          "base_uri": "https://localhost:8080/"
        },
        "id": "01Tlv-Ien8tO",
        "outputId": "f6deb09e-5671-43d9-e76a-03bfac528e0e"
      },
      "outputs": [
        {
          "metadata": {
            "tags": null
          },
          "name": "stdout",
          "output_type": "stream",
          "text": [
            "The-AI-Act.pdf downloaded successfully.\n"
          ]
        }
      ],
      "source": [
        "import urllib.request\n",
        "\n",
        "# Define the file name and URL\n",
        "file_name = \"The-AI-Act.pdf\"\n",
        "url = \"https://artificialintelligenceact.eu/wp-content/uploads/2021/08/The-AI-Act.pdf\"\n",
        "\n",
        "# Download the file\n",
        "urllib.request.urlretrieve(url, file_name)\n",
        "print(f\"{file_name} downloaded successfully.\")"
      ]
    },
    {
      "cell_type": "code",
      "execution_count": 2,
      "metadata": {
        "colab": {
          "base_uri": "https://localhost:8080/"
        },
        "id": "XVPC5eqgn8tO",
        "outputId": "c5fccbc3-fd32-4941-dccf-1f4c4e2eb25c"
      },
      "outputs": [
        {
          "output_type": "stream",
          "name": "stdout",
          "text": [
            "Collecting langchain_community\n",
            "  Downloading langchain_community-0.3.20-py3-none-any.whl.metadata (2.4 kB)\n",
            "Collecting pypdf\n",
            "  Downloading pypdf-5.4.0-py3-none-any.whl.metadata (7.3 kB)\n",
            "Requirement already satisfied: langchain-text-splitters in /usr/local/lib/python3.11/dist-packages (0.3.6)\n",
            "Requirement already satisfied: langchain-core<1.0.0,>=0.3.45 in /usr/local/lib/python3.11/dist-packages (from langchain_community) (0.3.45)\n",
            "Collecting langchain<1.0.0,>=0.3.21 (from langchain_community)\n",
            "  Downloading langchain-0.3.21-py3-none-any.whl.metadata (7.8 kB)\n",
            "Requirement already satisfied: SQLAlchemy<3,>=1.4 in /usr/local/lib/python3.11/dist-packages (from langchain_community) (2.0.39)\n",
            "Requirement already satisfied: requests<3,>=2 in /usr/local/lib/python3.11/dist-packages (from langchain_community) (2.32.3)\n",
            "Requirement already satisfied: PyYAML>=5.3 in /usr/local/lib/python3.11/dist-packages (from langchain_community) (6.0.2)\n",
            "Requirement already satisfied: aiohttp<4.0.0,>=3.8.3 in /usr/local/lib/python3.11/dist-packages (from langchain_community) (3.11.14)\n",
            "Requirement already satisfied: tenacity!=8.4.0,<10,>=8.1.0 in /usr/local/lib/python3.11/dist-packages (from langchain_community) (9.0.0)\n",
            "Collecting dataclasses-json<0.7,>=0.5.7 (from langchain_community)\n",
            "  Downloading dataclasses_json-0.6.7-py3-none-any.whl.metadata (25 kB)\n",
            "Collecting pydantic-settings<3.0.0,>=2.4.0 (from langchain_community)\n",
            "  Downloading pydantic_settings-2.8.1-py3-none-any.whl.metadata (3.5 kB)\n",
            "Requirement already satisfied: langsmith<0.4,>=0.1.125 in /usr/local/lib/python3.11/dist-packages (from langchain_community) (0.3.15)\n",
            "Collecting httpx-sse<1.0.0,>=0.4.0 (from langchain_community)\n",
            "  Downloading httpx_sse-0.4.0-py3-none-any.whl.metadata (9.0 kB)\n",
            "Requirement already satisfied: numpy<3,>=1.26.2 in /usr/local/lib/python3.11/dist-packages (from langchain_community) (2.0.2)\n",
            "Requirement already satisfied: aiohappyeyeballs>=2.3.0 in /usr/local/lib/python3.11/dist-packages (from aiohttp<4.0.0,>=3.8.3->langchain_community) (2.6.1)\n",
            "Requirement already satisfied: aiosignal>=1.1.2 in /usr/local/lib/python3.11/dist-packages (from aiohttp<4.0.0,>=3.8.3->langchain_community) (1.3.2)\n",
            "Requirement already satisfied: attrs>=17.3.0 in /usr/local/lib/python3.11/dist-packages (from aiohttp<4.0.0,>=3.8.3->langchain_community) (25.3.0)\n",
            "Requirement already satisfied: frozenlist>=1.1.1 in /usr/local/lib/python3.11/dist-packages (from aiohttp<4.0.0,>=3.8.3->langchain_community) (1.5.0)\n",
            "Requirement already satisfied: multidict<7.0,>=4.5 in /usr/local/lib/python3.11/dist-packages (from aiohttp<4.0.0,>=3.8.3->langchain_community) (6.2.0)\n",
            "Requirement already satisfied: propcache>=0.2.0 in /usr/local/lib/python3.11/dist-packages (from aiohttp<4.0.0,>=3.8.3->langchain_community) (0.3.0)\n",
            "Requirement already satisfied: yarl<2.0,>=1.17.0 in /usr/local/lib/python3.11/dist-packages (from aiohttp<4.0.0,>=3.8.3->langchain_community) (1.18.3)\n",
            "Collecting marshmallow<4.0.0,>=3.18.0 (from dataclasses-json<0.7,>=0.5.7->langchain_community)\n",
            "  Downloading marshmallow-3.26.1-py3-none-any.whl.metadata (7.3 kB)\n",
            "Collecting typing-inspect<1,>=0.4.0 (from dataclasses-json<0.7,>=0.5.7->langchain_community)\n",
            "  Downloading typing_inspect-0.9.0-py3-none-any.whl.metadata (1.5 kB)\n",
            "Collecting langchain-text-splitters\n",
            "  Downloading langchain_text_splitters-0.3.7-py3-none-any.whl.metadata (1.9 kB)\n",
            "Requirement already satisfied: pydantic<3.0.0,>=2.7.4 in /usr/local/lib/python3.11/dist-packages (from langchain<1.0.0,>=0.3.21->langchain_community) (2.10.6)\n",
            "Requirement already satisfied: jsonpatch<2.0,>=1.33 in /usr/local/lib/python3.11/dist-packages (from langchain-core<1.0.0,>=0.3.45->langchain_community) (1.33)\n",
            "Requirement already satisfied: packaging<25,>=23.2 in /usr/local/lib/python3.11/dist-packages (from langchain-core<1.0.0,>=0.3.45->langchain_community) (24.2)\n",
            "Requirement already satisfied: typing-extensions>=4.7 in /usr/local/lib/python3.11/dist-packages (from langchain-core<1.0.0,>=0.3.45->langchain_community) (4.12.2)\n",
            "Requirement already satisfied: httpx<1,>=0.23.0 in /usr/local/lib/python3.11/dist-packages (from langsmith<0.4,>=0.1.125->langchain_community) (0.28.1)\n",
            "Requirement already satisfied: orjson<4.0.0,>=3.9.14 in /usr/local/lib/python3.11/dist-packages (from langsmith<0.4,>=0.1.125->langchain_community) (3.10.15)\n",
            "Requirement already satisfied: requests-toolbelt<2.0.0,>=1.0.0 in /usr/local/lib/python3.11/dist-packages (from langsmith<0.4,>=0.1.125->langchain_community) (1.0.0)\n",
            "Requirement already satisfied: zstandard<0.24.0,>=0.23.0 in /usr/local/lib/python3.11/dist-packages (from langsmith<0.4,>=0.1.125->langchain_community) (0.23.0)\n",
            "Collecting python-dotenv>=0.21.0 (from pydantic-settings<3.0.0,>=2.4.0->langchain_community)\n",
            "  Downloading python_dotenv-1.0.1-py3-none-any.whl.metadata (23 kB)\n",
            "Requirement already satisfied: charset-normalizer<4,>=2 in /usr/local/lib/python3.11/dist-packages (from requests<3,>=2->langchain_community) (3.4.1)\n",
            "Requirement already satisfied: idna<4,>=2.5 in /usr/local/lib/python3.11/dist-packages (from requests<3,>=2->langchain_community) (3.10)\n",
            "Requirement already satisfied: urllib3<3,>=1.21.1 in /usr/local/lib/python3.11/dist-packages (from requests<3,>=2->langchain_community) (2.3.0)\n",
            "Requirement already satisfied: certifi>=2017.4.17 in /usr/local/lib/python3.11/dist-packages (from requests<3,>=2->langchain_community) (2025.1.31)\n",
            "Requirement already satisfied: greenlet!=0.4.17 in /usr/local/lib/python3.11/dist-packages (from SQLAlchemy<3,>=1.4->langchain_community) (3.1.1)\n",
            "Requirement already satisfied: anyio in /usr/local/lib/python3.11/dist-packages (from httpx<1,>=0.23.0->langsmith<0.4,>=0.1.125->langchain_community) (4.9.0)\n",
            "Requirement already satisfied: httpcore==1.* in /usr/local/lib/python3.11/dist-packages (from httpx<1,>=0.23.0->langsmith<0.4,>=0.1.125->langchain_community) (1.0.7)\n",
            "Requirement already satisfied: h11<0.15,>=0.13 in /usr/local/lib/python3.11/dist-packages (from httpcore==1.*->httpx<1,>=0.23.0->langsmith<0.4,>=0.1.125->langchain_community) (0.14.0)\n",
            "Requirement already satisfied: jsonpointer>=1.9 in /usr/local/lib/python3.11/dist-packages (from jsonpatch<2.0,>=1.33->langchain-core<1.0.0,>=0.3.45->langchain_community) (3.0.0)\n",
            "Requirement already satisfied: annotated-types>=0.6.0 in /usr/local/lib/python3.11/dist-packages (from pydantic<3.0.0,>=2.7.4->langchain<1.0.0,>=0.3.21->langchain_community) (0.7.0)\n",
            "Requirement already satisfied: pydantic-core==2.27.2 in /usr/local/lib/python3.11/dist-packages (from pydantic<3.0.0,>=2.7.4->langchain<1.0.0,>=0.3.21->langchain_community) (2.27.2)\n",
            "Collecting mypy-extensions>=0.3.0 (from typing-inspect<1,>=0.4.0->dataclasses-json<0.7,>=0.5.7->langchain_community)\n",
            "  Downloading mypy_extensions-1.0.0-py3-none-any.whl.metadata (1.1 kB)\n",
            "Requirement already satisfied: sniffio>=1.1 in /usr/local/lib/python3.11/dist-packages (from anyio->httpx<1,>=0.23.0->langsmith<0.4,>=0.1.125->langchain_community) (1.3.1)\n",
            "Downloading langchain_community-0.3.20-py3-none-any.whl (2.5 MB)\n",
            "\u001b[2K   \u001b[90m━━━━━━━━━━━━━━━━━━━━━━━━━━━━━━━━━━━━━━━━\u001b[0m \u001b[32m2.5/2.5 MB\u001b[0m \u001b[31m87.2 MB/s\u001b[0m eta \u001b[36m0:00:00\u001b[0m\n",
            "\u001b[?25hDownloading pypdf-5.4.0-py3-none-any.whl (302 kB)\n",
            "\u001b[2K   \u001b[90m━━━━━━━━━━━━━━━━━━━━━━━━━━━━━━━━━━━━━━━━\u001b[0m \u001b[32m302.3/302.3 kB\u001b[0m \u001b[31m31.0 MB/s\u001b[0m eta \u001b[36m0:00:00\u001b[0m\n",
            "\u001b[?25hDownloading dataclasses_json-0.6.7-py3-none-any.whl (28 kB)\n",
            "Downloading httpx_sse-0.4.0-py3-none-any.whl (7.8 kB)\n",
            "Downloading langchain-0.3.21-py3-none-any.whl (1.0 MB)\n",
            "\u001b[2K   \u001b[90m━━━━━━━━━━━━━━━━━━━━━━━━━━━━━━━━━━━━━━━━\u001b[0m \u001b[32m1.0/1.0 MB\u001b[0m \u001b[31m65.8 MB/s\u001b[0m eta \u001b[36m0:00:00\u001b[0m\n",
            "\u001b[?25hDownloading langchain_text_splitters-0.3.7-py3-none-any.whl (32 kB)\n",
            "Downloading pydantic_settings-2.8.1-py3-none-any.whl (30 kB)\n",
            "Downloading marshmallow-3.26.1-py3-none-any.whl (50 kB)\n",
            "\u001b[2K   \u001b[90m━━━━━━━━━━━━━━━━━━━━━━━━━━━━━━━━━━━━━━━━\u001b[0m \u001b[32m50.9/50.9 kB\u001b[0m \u001b[31m6.1 MB/s\u001b[0m eta \u001b[36m0:00:00\u001b[0m\n",
            "\u001b[?25hDownloading python_dotenv-1.0.1-py3-none-any.whl (19 kB)\n",
            "Downloading typing_inspect-0.9.0-py3-none-any.whl (8.8 kB)\n",
            "Downloading mypy_extensions-1.0.0-py3-none-any.whl (4.7 kB)\n",
            "Installing collected packages: python-dotenv, pypdf, mypy-extensions, marshmallow, httpx-sse, typing-inspect, pydantic-settings, dataclasses-json, langchain-text-splitters, langchain, langchain_community\n",
            "  Attempting uninstall: langchain-text-splitters\n",
            "    Found existing installation: langchain-text-splitters 0.3.6\n",
            "    Uninstalling langchain-text-splitters-0.3.6:\n",
            "      Successfully uninstalled langchain-text-splitters-0.3.6\n",
            "  Attempting uninstall: langchain\n",
            "    Found existing installation: langchain 0.3.20\n",
            "    Uninstalling langchain-0.3.20:\n",
            "      Successfully uninstalled langchain-0.3.20\n",
            "Successfully installed dataclasses-json-0.6.7 httpx-sse-0.4.0 langchain-0.3.21 langchain-text-splitters-0.3.7 langchain_community-0.3.20 marshmallow-3.26.1 mypy-extensions-1.0.0 pydantic-settings-2.8.1 pypdf-5.4.0 python-dotenv-1.0.1 typing-inspect-0.9.0\n"
          ]
        }
      ],
      "source": [
        "!pip install langchain_community pypdf langchain-text-splitters"
      ]
    },
    {
      "cell_type": "markdown",
      "source": [
        "这里获取到的文档可能太长，无法一次性处理，因此我们将将其分成更小的块，并分别嵌入化每个块。每个块将是一个单独的文档，我们将将其与用户输入进行比较。\n",
        "\n",
        "为了简单起见，我们可以使用来自 langchain 的一些预处理工具，这是一个提供创建 RAG 系统实用函数的库。例如，它有一个方便的 PyPDFLoader 类，可以从 PDF 中提取文本并处理分块。"
      ],
      "metadata": {
        "id": "Poaym6g7pwub"
      }
    },
    {
      "cell_type": "code",
      "execution_count": 3,
      "metadata": {
        "colab": {
          "base_uri": "https://localhost:8080/"
        },
        "id": "xA2kF4tIn8tO",
        "outputId": "6e02799a-5ee3-4074-ca1b-0d1b09241485"
      },
      "outputs": [
        {
          "output_type": "stream",
          "name": "stdout",
          "text": [
            "108\n"
          ]
        }
      ],
      "source": [
        "from langchain_community.document_loaders import PyPDFLoader\n",
        "\n",
        "loader = PyPDFLoader(file_name)\n",
        "docs = loader.load()\n",
        "print(len(docs))"
      ]
    },
    {
      "cell_type": "markdown",
      "source": [
        "PyPDFLoader 将 PDF 拆分为每页一个文档，在这种情况下产生了 108 个文档。我们将它们拆分成更小的块。langchain 库提供了帮助进行不同类型文本拆分的类。我们将使用 RecursiveCharacterTextSplitter ，它有两个关键参数：\n",
        "\n",
        "`chunk_size`\n",
        "\n",
        "每个块中的字符数。通常，将此与嵌入模型可以处理的最大token数相关联是个好主意，对于大多数句子转换器来说这个数字很小。否则，你可能会遇到文档部分被截断的风险。\n",
        "\n",
        "`chunk_overlap`\n",
        "\n",
        "每个块与上一个块重叠的字符数。这有助于避免在句子中间分割句子。我们将任意设置为 100 个字符（我们选择的块大小的五分之一）。"
      ],
      "metadata": {
        "id": "sizibVIYp3XL"
      }
    },
    {
      "cell_type": "markdown",
      "source": [
        "Backup:\n",
        "\n",
        "chunked_text[404] 指的是从原始文档分块后得到的第 405 个文本块的内容；\n",
        "\n",
        "出现 404 这个索引，说明原始文档经过滑动切割之后生成了大量块；\n",
        "\n",
        "通常用这个索引来检查模型或分块代码在中间某一个位置的切块效果和上下文连续性；\n",
        "\n",
        "如果在调试过程中发现 chunked_text[404] 内容比较奇怪（比如只是一小截不完整的句子），那很可能是 chunk_size 或 chunk_overlap 设置需要调整。"
      ],
      "metadata": {
        "id": "JpZPirzbIUDM"
      }
    },
    {
      "cell_type": "code",
      "execution_count": null,
      "metadata": {
        "colab": {
          "base_uri": "https://localhost:8080/"
        },
        "id": "adDKfcxfn8tP",
        "outputId": "fe0ef1ae-7261-4ff3-e8fd-0cb9659f5f6d"
      },
      "outputs": [
        {
          "output_type": "stream",
          "name": "stdout",
          "text": [
            "851\n"
          ]
        }
      ],
      "source": [
        "from langchain_text_splitters import RecursiveCharacterTextSplitter\n",
        "\n",
        "text_splitter = RecursiveCharacterTextSplitter(\n",
        "    chunk_size=500, chunk_overlap=100\n",
        ")\n",
        "chunks = text_splitter.split_documents(docs)\n",
        "print(len(chunks))"
      ]
    },
    {
      "cell_type": "markdown",
      "source": [
        "这样得到的分块之后的文本如下："
      ],
      "metadata": {
        "id": "Ofwuee1Tqh8n"
      }
    },
    {
      "cell_type": "code",
      "source": [
        "print(chunks[0].page_content)\n",
        "print(\"----------------------------\")\n",
        "print(type(chunks))\n",
        "print(type(chunks[0]))"
      ],
      "metadata": {
        "colab": {
          "base_uri": "https://localhost:8080/"
        },
        "id": "JME2j5hJqDjt",
        "outputId": "6f8407e6-557e-4bcc-fa3c-35cd2ce094b9"
      },
      "execution_count": null,
      "outputs": [
        {
          "output_type": "stream",
          "name": "stdout",
          "text": [
            "EN   EN \n",
            " \n",
            " \n",
            " \n",
            "EUROPEAN \n",
            "COMMISSION  \n",
            "Brussels, 21.4.2021  \n",
            "COM(2021) 206 final \n",
            "2021/0106 (COD) \n",
            " \n",
            "Proposal for a \n",
            "REGULATION OF THE EUROPEAN PARLIAMENT AND OF THE COUNCIL \n",
            "LAYING DOWN HARMONISED RULES ON ARTIFICIAL INTELLIGENCE \n",
            "(ARTIFICIAL INTELLIGENCE ACT) AND AMENDING CERTAIN UNION \n",
            "LEGISLATIVE ACTS \n",
            "{SEC(2021) 167 final} - {SWD(2021) 84 final} - {SWD(2021) 85 final}\n",
            "----------------------------\n",
            "<class 'list'>\n",
            "<class 'langchain_core.documents.base.Document'>\n"
          ]
        }
      ]
    },
    {
      "cell_type": "markdown",
      "source": [
        "把文本块保存到列表中，并且打印出来，会得到下面的样子"
      ],
      "metadata": {
        "id": "XmenIwptqABe"
      }
    },
    {
      "cell_type": "code",
      "execution_count": null,
      "metadata": {
        "colab": {
          "base_uri": "https://localhost:8080/",
          "height": 52
        },
        "id": "sJjqxd69n8tP",
        "outputId": "e333884d-4855-407d-d855-3d59db96022c"
      },
      "outputs": [
        {
          "output_type": "execute_result",
          "data": {
            "text/plain": [
              "'user or for own use on the Union market for its intended purpose; \\n(12) ‘intended purpose’ means the use for which an AI system is intended by the provider, \\nincluding the specific context and conditions of use,  as specified in the information \\nsupplied by the provider in the instructions for use, promotional or sales materials \\nand statements, as well as in the technical documentation; \\n(13) ‘reasonably foreseeable misuse’ means the use of an AI system in a way that is not in'"
            ],
            "application/vnd.google.colaboratory.intrinsic+json": {
              "type": "string"
            }
          },
          "metadata": {},
          "execution_count": 6
        }
      ],
      "source": [
        "chunked_text = [chunk.page_content for chunk in chunks]\n",
        "chunked_text[404]"
      ]
    },
    {
      "cell_type": "markdown",
      "metadata": {
        "id": "wfCrr2qnn8tP"
      },
      "source": [
        "### 将文本转化为 Embedding\n"
      ]
    },
    {
      "cell_type": "markdown",
      "source": [
        "现在我们有了文档（我们的块），我们需要创建它们的嵌入。我们将使用句子转换器模型作为检索器，它就像搜索引擎一样，用于找到与给定问题最相关的片段。\n",
        "\n",
        "如何找到最相关的片段？这个过程依赖于计算用户查询的嵌入与我们的集合中文档的嵌入之间的**相似度**。\n",
        "\n",
        "为了预计算所有文档的嵌入，我们将使用预训练的 SentenceTransformer 模型。以下的代码片段加载一个预训练的句子转换器模型，并使用它来把两个句子编码为 Embedding："
      ],
      "metadata": {
        "id": "5UpiSeIhq1J_"
      }
    },
    {
      "cell_type": "code",
      "execution_count": null,
      "metadata": {
        "colab": {
          "base_uri": "https://localhost:8080/"
        },
        "id": "WxWzb4Ebn8tP",
        "outputId": "598111ee-f735-497f-a557-3cf120fd6a51"
      },
      "outputs": [
        {
          "output_type": "stream",
          "name": "stderr",
          "text": [
            "/usr/local/lib/python3.11/dist-packages/huggingface_hub/utils/_auth.py:94: UserWarning: \n",
            "The secret `HF_TOKEN` does not exist in your Colab secrets.\n",
            "To authenticate with the Hugging Face Hub, create a token in your settings tab (https://huggingface.co/settings/tokens), set it as secret in your Google Colab and restart your session.\n",
            "You will be able to reuse this secret in all of your notebooks.\n",
            "Please note that authentication is recommended but still optional to access public models or datasets.\n",
            "  warnings.warn(\n"
          ]
        }
      ],
      "source": [
        "from sentence_transformers import SentenceTransformer, util\n",
        "\n",
        "sentences = [\"I'm happy\", \"I'm full of happiness\"]\n",
        "model = SentenceTransformer(\"BAAI/bge-small-en-v1.5\")\n",
        "\n",
        "# Compute embedding for both sentences\n",
        "# model.encode()--convert senteneces into vector\n",
        "# convert_to_tensor=True 表示输出的是 PyTorch 的 Tensor 格式，而不是 Numpy 数组。\n",
        "embedding_1 = model.encode(sentences[0], convert_to_tensor=True)\n",
        "embedding_2 = model.encode(sentences[1], convert_to_tensor=True)"
      ]
    },
    {
      "cell_type": "markdown",
      "source": [
        "Backup:\n",
        "\n",
        "1.关于sentence_transformers\n",
        "\n",
        "sentence_transformers 是一个非常流行的 Python 库，它基于 HuggingFace Transformers,专门用于句子级别的向量表示(embedding)。\n",
        "\n",
        "它可以把一句话或一段文字编码成一个高维向量，方便进行语义相似度计算、检索增强生成(RAG)、聚类等应用。\n",
        "\n",
        "SentenceTransformer 是这个库中最核心的类，负责加载预训练模型并编码句子。\n",
        "util 模块里通常提供一些常用的工具函数，比如计算余弦相似度等。\n",
        "\n",
        "\n",
        "2.定义列表的作用--检测模型是否能将这两句话映射到相似的向量空间\n",
        "\n",
        "这里定义了一个包含两句英语句子的列表：\n",
        "\"I'm happy\"（我很开心）\n",
        "\"I'm full of happiness\"（我充满了幸福感）\n",
        "\n",
        "这两句话的含义相近，后面代码就是用来检验模型是否能将这两句话映射到相似的向量空间。\n",
        "\n",
        "3.BAAI/bge-small-en-v1.5\n",
        "\n",
        "这行代码会从 Hugging Face 下载并加载一个预训练模型：\n",
        "模型名称: BAAI/bge-small-en-v1.5\n",
        "BAAI 是北京智源研究院(Beijing Academy of Artificial Intelligence)推出的模型系列。\n",
        "bge-small-en-v1.5 是一个小型的英文句向量模型，专门训练来生成高质量的句子 embedding。\n",
        "模型会根据输入句子，输出一个固定长度的向量（比如 384 维或者 768 维，具体取决于模型结构）。\n"
      ],
      "metadata": {
        "id": "xSxdqPf6Mo69"
      }
    },
    {
      "cell_type": "markdown",
      "source": [
        "句子转换器返回整个句子的单个嵌入。尽管转换器模型通常为每个标记输出一个嵌入，但句子转换器经过训练，可以将标记嵌入汇总成一个句子嵌入，该嵌入能够捕捉整个文本的语义。\n",
        "\n",
        "得到的 embedding 的值以及形状如下："
      ],
      "metadata": {
        "id": "WVkL6ty_r5f8"
      }
    },
    {
      "cell_type": "code",
      "execution_count": null,
      "metadata": {
        "colab": {
          "base_uri": "https://localhost:8080/"
        },
        "id": "sfAxgV9cn8tP",
        "outputId": "f85d979f-d746-4f3c-a6a5-344fcf0e8000"
      },
      "outputs": [
        {
          "output_type": "stream",
          "name": "stdout",
          "text": [
            "tensor([-0.0562, -0.0264,  0.0629,  0.0064, -0.0116, -0.0082,  0.0940,  0.0294,\n",
            "         0.0561,  0.0060], device='cuda:0')\n",
            "tensor([-0.0332,  0.0113,  0.0429,  0.0370, -0.0322, -0.0026,  0.1363, -0.0192,\n",
            "         0.0861,  0.0149], device='cuda:0')\n",
            "Embedding_1 shape: torch.Size([384])\n",
            "Embedding_2 shape: torch.Size([384])\n"
          ]
        }
      ],
      "source": [
        "print(embedding_1[:10])\n",
        "print(embedding_2[:10])\n",
        "print(f'Embedding_1 shape: {embedding_1.shape}')\n",
        "print(f'Embedding_2 shape: {embedding_2.shape}')"
      ]
    },
    {
      "cell_type": "markdown",
      "source": [
        "根据**余弦相似度**比较两个 embedding 之间的相似度"
      ],
      "metadata": {
        "id": "jEmMTNslsSSg"
      }
    },
    {
      "cell_type": "code",
      "execution_count": null,
      "metadata": {
        "colab": {
          "base_uri": "https://localhost:8080/"
        },
        "id": "xTj4Nxfzn8tQ",
        "outputId": "972fe091-d648-484e-a0a1-090cc5878906"
      },
      "outputs": [
        {
          "output_type": "execute_result",
          "data": {
            "text/plain": [
              "tensor([[0.8367]], device='cuda:0')"
            ]
          },
          "metadata": {},
          "execution_count": 9
        }
      ],
      "source": [
        "util.pytorch_cos_sim(embedding_1, embedding_2)"
      ]
    },
    {
      "cell_type": "markdown",
      "source": [
        "更简单的方法是这两个 embedding 的点积。下面是两种计算 tensor 点积的方法"
      ],
      "metadata": {
        "id": "GX1PzmfOsdEJ"
      }
    },
    {
      "cell_type": "code",
      "execution_count": null,
      "metadata": {
        "colab": {
          "base_uri": "https://localhost:8080/"
        },
        "id": "H5qLUbuKn8tQ",
        "outputId": "d43df885-c6a1-4367-e87b-332c3eb9d933"
      },
      "outputs": [
        {
          "output_type": "execute_result",
          "data": {
            "text/plain": [
              "tensor(0.8367, device='cuda:0')"
            ]
          },
          "metadata": {},
          "execution_count": 10
        }
      ],
      "source": [
        "embedding_1 @ embedding_2"
      ]
    },
    {
      "cell_type": "code",
      "execution_count": null,
      "metadata": {
        "colab": {
          "base_uri": "https://localhost:8080/"
        },
        "id": "1dpzGW5Cn8tQ",
        "outputId": "edd0985a-7f14-4142-b97c-5d2612b50628"
      },
      "outputs": [
        {
          "output_type": "execute_result",
          "data": {
            "text/plain": [
              "tensor(0.8367, device='cuda:0')"
            ]
          },
          "metadata": {},
          "execution_count": 11
        }
      ],
      "source": [
        "import torch\n",
        "\n",
        "torch.dot(embedding_1, embedding_2)"
      ]
    },
    {
      "cell_type": "markdown",
      "source": [
        "现在我们知道了如何嵌入一个句子，接下来让我们嵌入所有文档。\n",
        "这为每个片段返回一个 384 维的嵌入向量。上面的文档在切分之后，会得到 851 个片段"
      ],
      "metadata": {
        "id": "kd3tHj1bsu9x"
      }
    },
    {
      "cell_type": "code",
      "execution_count": null,
      "metadata": {
        "colab": {
          "base_uri": "https://localhost:8080/"
        },
        "id": "pcZ7_GcAn8tQ",
        "outputId": "95d113a5-066e-4f90-a9af-c9c672086d6d"
      },
      "outputs": [
        {
          "output_type": "stream",
          "name": "stdout",
          "text": [
            "torch.Size([851, 384])\n"
          ]
        }
      ],
      "source": [
        "chunk_embeddings = model.encode(chunked_text, convert_to_tensor=True)\n",
        "print(chunk_embeddings.shape)"
      ]
    },
    {
      "cell_type": "markdown",
      "metadata": {
        "id": "zEUAasman8tQ"
      },
      "source": [
        "## 检索\n",
        "\n",
        "使用嵌入文档，我们可以检索与给定问题最相关的文档。我们将使用之前相同的方法来计算问题与每个文档之间的余弦相似度。幸运的是，相似度计算不需要迭代：可以通过使用内置的 PyTorch 矩阵乘法原语高效地执行。"
      ]
    },
    {
      "cell_type": "code",
      "execution_count": null,
      "metadata": {
        "id": "xQsotJYtn8tQ"
      },
      "outputs": [],
      "source": [
        "def search_documents(query, top_k=5):\n",
        "    # Encode the query into a vector\n",
        "    query_embedding = model.encode(query, convert_to_tensor=True)\n",
        "\n",
        "    # Calculate cosine similarity between the query and all document chunks\n",
        "    similarities = util.pytorch_cos_sim(query_embedding, chunk_embeddings)\n",
        "\n",
        "    # Get the top k most similar chunks\n",
        "    top_k_indices = similarities[0].topk(top_k).indices\n",
        "\n",
        "    # Retrieve the corresponding document chunks 找出top k个文本拿出来变成列表\n",
        "    results = [chunked_text[i] for i in top_k_indices]\n",
        "\n",
        "    return results"
      ]
    },
    {
      "cell_type": "code",
      "execution_count": null,
      "metadata": {
        "colab": {
          "base_uri": "https://localhost:8080/"
        },
        "id": "r0K5INA5n8tQ",
        "outputId": "f95c1f5a-d5bd-46ad-f209-34cb77f82f66"
      },
      "outputs": [
        {
          "output_type": "execute_result",
          "data": {
            "text/plain": [
              "['TITLE II \\nPROHIBITED ARTIFICIAL INTELLIGENCE PRACTICES \\nArticle 5 \\n1. The following artificial intelligence practices shall be prohibited: \\n(a) the placing on the market, putting into service or use of an A I system that \\ndeploys subliminal techniques beyond a person’s consciousness in order to \\nmaterially distort a person’s behaviour in a manner that causes or is likely to \\ncause that person or another person physical or psychological harm;',\n",
              " 'low or minimal risk. The list of prohibited practices in Title II comprises all those AI systems \\nwhose use is considered unacceptable as contravening Unio n values, for instance by violating \\nfundamental rights. The prohibitions covers practices that have a significant potential to \\nmanipulate persons  through subliminal techniques beyond their consciousness or exploit']"
            ]
          },
          "metadata": {},
          "execution_count": 14
        }
      ],
      "source": [
        "search_documents(\"What are prohibited ai practices?\", top_k=2)"
      ]
    },
    {
      "cell_type": "markdown",
      "source": [
        "可以看到通过 SentenceTransformer 计算出来的 embedding 使得我们能够正确地从输入问题中检索相关信息"
      ],
      "metadata": {
        "id": "3SrJgHjCteUZ"
      }
    },
    {
      "cell_type": "markdown",
      "metadata": {
        "id": "NRquUNKVn8tR"
      },
      "source": [
        "## 生成回答\n",
        "\n",
        "下一步是根据问题和检索到的文档生成响应。这里我们使用 `Qwen/Qwen2.5-0.5B-Instruct` 模型作为示例，我们可以随时尝试换一个模型"
      ]
    },
    {
      "cell_type": "code",
      "execution_count": null,
      "metadata": {
        "colab": {
          "base_uri": "https://localhost:8080/",
          "height": 258,
          "referenced_widgets": [
            "58d143e07fb0438eabd5f2123f9e1c13",
            "bee2d7e1e60f42d6910e9f6960f6773d",
            "845f758782ca4c079bbb70c23a09a99c",
            "fc6d670890d84088b48bd58c9b888d02",
            "763e466f377340d0b062e14a398a17aa",
            "fc55845d1ecb43d69569c766fffaf806",
            "bf9c6dc2decd4765aa05b516406a4539",
            "c7ec0923e0424f2c8c0793b199a09b87",
            "caa9b720e70d433fb6b56805d83e7482",
            "768b5049578d4f8389538a4d3f197a80",
            "0a0625b5f54c42649af5be8fab666d3d",
            "43880f0238fb4a5184264b4316ad414f",
            "9e01b2336c524f7bb230208a31c8ccc2",
            "65b4d6785e66445f88ec3175a1b0c745",
            "1a2d23d2f8bb42b39e2dc41f6dd6a6f5",
            "bf90415ac2994f37b7834507d40550c0",
            "00d7c1f8b02e4c52be9fbf2511ce58eb",
            "6b08db7c03624f95adff79ee5e20fbbe",
            "bce46c0d9a01427dadf369f806226697",
            "9f474bbdd3d4494697bfc40fcd863d77",
            "0dd9269b5d7a4e10afbfdaf76d7c933d",
            "114de8c6f3b344eb9295844a8c33f3e0",
            "4852240487d24c37917a7b7975cf87e4",
            "d989ac12db0f42b689ce03316b7e1d3f",
            "564357999f4d46409da8e60562af7112",
            "7ea5525d460445c3a7c2f4479574d6fe",
            "0228eb075354445ca82ee5032c075dde",
            "6134926aaf1f44f4a18047afca7c7519",
            "d98fe9ad380945f2a023dd04bc5c4965",
            "c3dfb2d44af4473d801b32d0a84287d8",
            "ce8933aa232e4db398c354b7c4f136e4",
            "954eeaaf701145eca5a143fe6b445a9b",
            "8ece99807f074c4fa782f4d08d44d44a",
            "bd1b2b227d0a4cefbfe1340c80cac322",
            "edc16cdf672548e7bbfa9b492e99bd4a",
            "497a60262dc541f0a259fbe0f43d004c",
            "41d11a707d7f403bbb2deca360880dd7",
            "c22476e9c6cd40dfa288cbafe314c141",
            "894de278a424452e9c26da88678ee3d6",
            "82530ce189ca4075b801658f84ca35da",
            "6ff6f5d6931a44d2b6dbcdf5392263be",
            "5e26db1ee10b46b48732a9cb905198f2",
            "a20583cd08e54022af8f2e824a259c29",
            "e31dad8f16644d48880470feed40a5fe",
            "b1df5be06ad84ebb82aac3a2e1c8282e",
            "f995d7cd9d244181a5068c5385868c6d",
            "7933d09c40ba4de194c290e1655f57ca",
            "42764dd93d7a4d44862834775dca1814",
            "c629b1011a81478e93dd913ce5f44055",
            "cf67e529b8f147cb8464a0b4284fcbea",
            "107b8ce38d1b44349246979b707bfaaa",
            "af8f4034fdb9483fa54accd825882a17",
            "06238116eb644df1a426021441181e5b",
            "6c3df0680e31487fba948bed5abc70f9",
            "7e9f4467f1dd471c805656572cc1e27f",
            "d5dcc7ec19d04655902be0a46de0d214",
            "2a479a2f73e14920b6b2b69c1c53e1a5",
            "5aaa8081188e4cd8a3a787520f51e494",
            "b392bfef68274b059d7c974f894d0767",
            "011c0c8b3e8b4449b0db298a6c7ba484",
            "6b745f0868504baa8d0aa48ad0cdb05a",
            "f6b7988297a04eeb83d4b67c0d072613",
            "e875cf8caaf7429b8419446b2c6cf62c",
            "1314d0f4afda4d9ea0cbd034f9d3883e",
            "892daaeb9d154e87b5c80a55fcfdde7c",
            "b3e7051737e0439e83e18e09966f2aa8",
            "baa3f264f7b440e58ebe8c6da9b99a2b",
            "1e6ae29ab82c4579af607915a8626f52",
            "423dfa2c51564f6188c0c31a99339851",
            "3e7ab2a29b5a4990b31b496a39de963b",
            "1f58eeeca1c24b1ea0a621f16bab0843",
            "900d30214e824a2cb972e220290e0296",
            "8dc9e954d4b248d889164a0bb97bb8a2",
            "dfe5c1f2f3f64546a4d1dc54d04623f2",
            "f29a9bdefc4a44d8b2bd69efe2c64de5",
            "63183bb5f43746c8b95e5eb377af0edb",
            "20574b14179f4193afb67efb59e6cb83"
          ]
        },
        "id": "CxHu-4dqn8tR",
        "outputId": "8a20de1a-20b8-45c7-e3d8-5ccae9886b83"
      },
      "outputs": [
        {
          "output_type": "display_data",
          "data": {
            "text/plain": [
              "config.json:   0%|          | 0.00/659 [00:00<?, ?B/s]"
            ],
            "application/vnd.jupyter.widget-view+json": {
              "version_major": 2,
              "version_minor": 0,
              "model_id": "58d143e07fb0438eabd5f2123f9e1c13"
            }
          },
          "metadata": {}
        },
        {
          "output_type": "display_data",
          "data": {
            "text/plain": [
              "model.safetensors:   0%|          | 0.00/988M [00:00<?, ?B/s]"
            ],
            "application/vnd.jupyter.widget-view+json": {
              "version_major": 2,
              "version_minor": 0,
              "model_id": "43880f0238fb4a5184264b4316ad414f"
            }
          },
          "metadata": {}
        },
        {
          "output_type": "display_data",
          "data": {
            "text/plain": [
              "generation_config.json:   0%|          | 0.00/242 [00:00<?, ?B/s]"
            ],
            "application/vnd.jupyter.widget-view+json": {
              "version_major": 2,
              "version_minor": 0,
              "model_id": "4852240487d24c37917a7b7975cf87e4"
            }
          },
          "metadata": {}
        },
        {
          "output_type": "display_data",
          "data": {
            "text/plain": [
              "tokenizer_config.json:   0%|          | 0.00/7.30k [00:00<?, ?B/s]"
            ],
            "application/vnd.jupyter.widget-view+json": {
              "version_major": 2,
              "version_minor": 0,
              "model_id": "bd1b2b227d0a4cefbfe1340c80cac322"
            }
          },
          "metadata": {}
        },
        {
          "output_type": "display_data",
          "data": {
            "text/plain": [
              "vocab.json:   0%|          | 0.00/2.78M [00:00<?, ?B/s]"
            ],
            "application/vnd.jupyter.widget-view+json": {
              "version_major": 2,
              "version_minor": 0,
              "model_id": "b1df5be06ad84ebb82aac3a2e1c8282e"
            }
          },
          "metadata": {}
        },
        {
          "output_type": "display_data",
          "data": {
            "text/plain": [
              "merges.txt:   0%|          | 0.00/1.67M [00:00<?, ?B/s]"
            ],
            "application/vnd.jupyter.widget-view+json": {
              "version_major": 2,
              "version_minor": 0,
              "model_id": "d5dcc7ec19d04655902be0a46de0d214"
            }
          },
          "metadata": {}
        },
        {
          "output_type": "display_data",
          "data": {
            "text/plain": [
              "tokenizer.json:   0%|          | 0.00/7.03M [00:00<?, ?B/s]"
            ],
            "application/vnd.jupyter.widget-view+json": {
              "version_major": 2,
              "version_minor": 0,
              "model_id": "baa3f264f7b440e58ebe8c6da9b99a2b"
            }
          },
          "metadata": {}
        },
        {
          "output_type": "stream",
          "name": "stderr",
          "text": [
            "Device set to use cuda\n"
          ]
        }
      ],
      "source": [
        "from transformers import pipeline\n",
        "\n",
        "generator = pipeline(\n",
        "    \"text-generation\",\n",
        "    model=\"Qwen/Qwen2.5-0.5B-Instruct\",\n",
        "    device='cuda'\n",
        ")"
      ]
    },
    {
      "cell_type": "markdown",
      "source": [
        "我们将使用一个指令模型和聊天模板。*transformers* 库当中，有格式化提示以符合模型期望的实用工具。在 RAG 案例中，我们希望将检索到的文档添加到提示中："
      ],
      "metadata": {
        "id": "X0U28anevOdV"
      }
    },
    {
      "cell_type": "code",
      "execution_count": null,
      "metadata": {
        "id": "HDb4aUHWn8tR"
      },
      "outputs": [],
      "source": [
        "def generate_answer(query):\n",
        "    # Retrieve relevant chunks\n",
        "    context_chunks = search_documents(query, top_k=2)\n",
        "\n",
        "    # Combine the chunks into a single context string\n",
        "    context = \"\\n\".join(context_chunks)\n",
        "\n",
        "    # Generate a response using the context\n",
        "    prompt = f\"Context:\\n{context}\\n\\nQuestion: {query}\\nAnswer:\"\n",
        "    print(f'\\nFormatted prompt sent to model: \\n{prompt}')\n",
        "\n",
        "    # Define the context to be passed to the model\n",
        "    system_prompt = (\n",
        "        \"You are a friendly assistant that answers questions about the AI Act. \"\n",
        "        \"If the user is not making a question, you can ask for clarification\"\n",
        "    )\n",
        "    # 确定回复生成的格式\n",
        "    messages = [\n",
        "        {\"role\": \"system\", \"content\": system_prompt},\n",
        "        {\"role\": \"user\", \"content\": prompt},\n",
        "    ]\n",
        "\n",
        "    response = generator(messages, max_new_tokens=300)\n",
        "    return response[0][\"generated_text\"][2][\"content\"]\n",
        "\n",
        "\n",
        "def generate_answer_direct(query):\n",
        "    # 直接使用查询生成答案，不进行文档搜索\n",
        "    # 定义系统提示词\n",
        "    system_prompt = (\n",
        "        \"You are a friendly assistant that answers questions about the AI Act. \"\n",
        "        \"If the user is not making a question, you can ask for clarification\"\n",
        "    )\n",
        "\n",
        "    # 构建消息列表\n",
        "    messages = [\n",
        "        {\"role\": \"system\", \"content\": system_prompt},\n",
        "        {\"role\": \"user\", \"content\": query},\n",
        "    ]\n",
        "\n",
        "    # 调用生成器获取回复\n",
        "    response = generator(messages, max_new_tokens=300)\n",
        "    return response[0][\"generated_text\"][2][\"content\"]\n"
      ]
    },
    {
      "cell_type": "code",
      "execution_count": null,
      "metadata": {
        "colab": {
          "base_uri": "https://localhost:8080/"
        },
        "id": "tDH0JVY2n8tR",
        "outputId": "58e57d58-ff7d-4ae0-9f92-e248bc246a87"
      },
      "outputs": [
        {
          "output_type": "stream",
          "name": "stdout",
          "text": [
            "\n",
            "Formatted prompt sent to model: \n",
            "Context:\n",
            "EUR: \n",
            "(a) non-compliance with the prohibition of the artificial intelligence practices \n",
            "referred to in Article 5; \n",
            "(b) non-compliance of the AI system with the requirements laid down in Article \n",
            "10. \n",
            "3. The non -compliance of the AI system with any requirements or obligations under \n",
            "this Regulation, other than those laid down in Articles 5 and 10, shall be subject to \n",
            "administrative fines of up to 250 000 EUR. \n",
            "4. Before taking decisions pursuant to this Article, the European Data Protection\n",
            "TITLE II \n",
            "PROHIBITED ARTIFICIAL INTELLIGENCE PRACTICES \n",
            "Article 5 \n",
            "1. The following artificial intelligence practices shall be prohibited: \n",
            "(a) the placing on the market, putting into service or use of an A I system that \n",
            "deploys subliminal techniques beyond a person’s consciousness in order to \n",
            "materially distort a person’s behaviour in a manner that causes or is likely to \n",
            "cause that person or another person physical or psychological harm;\n",
            "\n",
            "Question: What are prohibited ai practices in the EU act?\n",
            "Answer:\n",
            "The EU Act prohibits the following artificial intelligence practices:\n",
            "\n",
            "1. Placing an AI system on the market.\n",
            "2. Putting it into service or use.\n",
            "3. Using it in a way that distorts a person's behavior.\n",
            "\n",
            "Specifically, these practices include placing subliminal techniques beyond a person's conscious mind in order to materialize harmful consequences.\n"
          ]
        }
      ],
      "source": [
        "answer = generate_answer(\"What are prohibited ai practices in the EU act?\")\n",
        "print(answer)"
      ]
    },
    {
      "cell_type": "code",
      "source": [
        "# 没有使用RAG\n",
        "answer = generate_answer_direct(\"What are prohibited ai practices in the EU act?\")\n",
        "print(answer)"
      ],
      "metadata": {
        "colab": {
          "base_uri": "https://localhost:8080/"
        },
        "id": "3OLVnV1Ixx5B",
        "outputId": "d6d0c967-9077-42d5-87d0-4808932081e4"
      },
      "execution_count": null,
      "outputs": [
        {
          "output_type": "stream",
          "name": "stdout",
          "text": [
            "The European Union (EU) has implemented several regulations and directives aimed at regulating artificial intelligence (AI) to ensure fair competition, privacy protection, and transparency. Some of these prohibitions include:\n",
            "\n",
            "1. **Regulation on Artificial Intelligence (AI) Regulation 2018/649** - This regulation aims to protect consumers from deceptive advertising and ensure that companies have adequate information to make informed decisions.\n",
            "\n",
            "2. **Prohibition on Discrimination in Employment** - It prohibits discrimination based on race, gender, sexual orientation, disability, age, or other protected characteristics.\n",
            "\n",
            "3. **Regulation on Data Protection** - This regulation sets out requirements for data controllers and processors to ensure the security and protection of personal data, including the requirement to respect user rights such as access, correction, deletion, and erasure.\n",
            "\n",
            "4. **Regulation on Privacy and Electronic Communications** - It provides rules for how companies handle personal data, including requirements for collecting, processing, storing, sharing, and protecting personal data.\n",
            "\n",
            "5. **Regulation on the Use of Artificial Intelligence in Health Care** - It requires that healthcare providers use AI responsibly and ethically, ensuring that it does not compromise patient confidentiality or cause harm.\n",
            "\n",
            "6. **Regulation on AI in Financial Services** - It regulates financial institutions to prevent fraudulent activities related to AI systems used in their operations.\n",
            "\n",
            "These regulations aim to maintain public trust and ensure that AI is used in a manner that benefits society rather than causing harm.\n"
          ]
        }
      ]
    },
    {
      "cell_type": "markdown",
      "source": [
        "我们可以将基于 RAG 生成的回答与没有 RAG 的回答进行对比，从而判断模型是否有按照预期工作：\n",
        "\n",
        "## 1. 有 RAG 的回答：\n",
        "\n",
        "### **从外部数据当中获取到的上下文：**\n",
        "\n",
        "```\n",
        "欧元：  \n",
        "(a) 不遵守第5条中关于人工智能实践的禁止规定；  \n",
        "(b) 人工智能系统不符合第10条规定的要求。  \n",
        "\n",
        "3. 人工智能系统未遵守本法规中除第5条和第10条以外的任何要求或义务的，将被处以最高250,000欧元的行政罚款。  \n",
        "\n",
        "4. 在根据本条作出决定之前，欧洲数据保护...  \n",
        "\n",
        "第二章  \n",
        "被禁止的人工智能实践  \n",
        "\n",
        "第5条\n",
        "1. 下列人工智能实践应被禁止：  \n",
        "(a) 投放市场、投入使用或使用任何超越个人意识、通过潜意识技术以实质性扭曲个人行为并导致或可能导致该人或其他人身体或心理伤害的人工智能系统；\n",
        "```\n",
        "\n",
        "### **人工输入的问题：**\n",
        "\n",
        "> 欧盟法案中禁止的人工智能实践有哪些？\n",
        "\n",
        "\n",
        "### **模型的回答：**\n",
        "\n",
        "> 欧盟法案禁止以下人工智能实践：\n",
        "1. 将人工智能系统投放市场。\n",
        "2. 将其投入服务或使用。\n",
        "3. 以扭曲个人行为的方式使用它。 具体而言，这些实践包括使用超出个人意识范围的潜意识技术，目的是实现有害后果。\n",
        "\n",
        "\n",
        "## 2. 没有 RAG 得到的回答\n",
        "\n",
        "### **人工输入的问题：**\n",
        "\n",
        "> 欧盟法案中禁止的人工智能实践有哪些？\n",
        "\n",
        "### **模型的回答：**\n",
        "\n",
        "欧洲联盟（EU）已经实施了几项法规和指令，旨在规范人工智能（AI），以确保公平竞争、隐私保护和透明度。这些禁令包括：\n",
        "\n",
        "1. **人工智能（AI）法规 2018/649** - 该法规旨在保护消费者免受欺骗性广告的影响，并确保公司拥有足够的信息做出明智决定。\n",
        "\n",
        "2. **就业歧视禁令** - 禁止基于种族、性别、性取向、残疾、年龄或其他受保护特征的歧视。\n",
        "\n",
        "3. **数据保护法规** - 该法规为数据控制者和处理者设定了要求，以确保个人数据的安全和保护，包括尊重用户的访问、更正、删除和擦除等权利。\n",
        "\n",
        "4. **隐私和电子通信法规** - 提供了公司如何处理个人数据的规则，包括收集、处理、存储、共享和保护个人数据的要求。\n",
        "\n",
        "5. **医疗保健中人工智能使用法规** - 要求医疗保健提供者负责任且合乎道德地使用人工智能，确保不会损害患者隐私或造成伤害。\n",
        "\n",
        "6. **金融服务中的人工智能法规** - 规范金融机构，防止与其运营中使用的人工智能系统相关的欺诈活动。\n",
        "\n",
        "这些法规旨在维护公众信任，并确保人工智能的使用方式有利于社会而非造成伤害。"
      ],
      "metadata": {
        "id": "N-RmAKkOvvOF"
      }
    },
    {
      "cell_type": "markdown",
      "source": [
        "可以看出来基于 RAG 的模型给出的回答更简短，更准确，更有针对性。这对于在某些专业领域上，给出足够准确的回答，而不是基于幻觉，毫无疑问是有帮助的。"
      ],
      "metadata": {
        "id": "zYNWrLI20CSZ"
      }
    },
    {
      "cell_type": "markdown",
      "source": [
        "\n",
        "\n",
        "---\n",
        "\n"
      ],
      "metadata": {
        "id": "WnCbmSBY2Z8o"
      }
    },
    {
      "cell_type": "markdown",
      "source": [
        "# 生产级的 RAG\n",
        "\n",
        "我们展示的代码是一个简单的 RAG 系统示例。在一个生产级系统中，你需要考虑几个额外的因素：\n",
        "\n",
        "## 1. 分块\n",
        "\n",
        "  真实数据的一个挑战是文档可能非常长。找到合适的块大小是一个设计决策，这取决于数据和模型：太小的片段会截断想法，而太大的片段则会稀释它们\n",
        "\n",
        "## 2. 嵌入的大小\n",
        "\n",
        "  大嵌入可能会占用大量内存。目前正在进行积极的研究，旨在在保持嵌入质量的同时减小嵌入的大小。对于嵌入进行量化也是目前热门的方向\n",
        "\n",
        "## 3. 重新排序\n",
        "\n",
        "  检索步骤在 RAG 系统中至关重要。我们的检索模型需要速度快，并且检索的准确性对于比较成千上万或数百万份文档来说是非常重要的，但它们并不必须要是最准确的。一旦检索到 top_k 文档，我们可以使用一个速度较慢但质量更高的模型重新排序它们。\n",
        "\n",
        "## 4. 嵌入模型的评估\n",
        "\n",
        "  现在已经有数十种句子转换模型。为了选择最适合您用例的最佳模型，我们建议查看 Massive Text Embedding Benchmark，该基准包含有关模型大小、嵌入维度以及数十个任务中的质量等信息。请注意，我们通常希望检索任务中的模型非常小且速度快，因此这应该是您决策的关键因素。"
      ],
      "metadata": {
        "id": "MjqHnzsX0dbq"
      }
    },
    {
      "cell_type": "code",
      "source": [],
      "metadata": {
        "id": "KdlwBarEwWby"
      },
      "execution_count": null,
      "outputs": []
    },
    {
      "cell_type": "markdown",
      "source": [
        "Backup\n",
        "\n",
        "1. Query 和 retriever 部分使用的embedding 模型（encoder）可以选择相同（本案例相同）的也可以选不同的；\n",
        "2. 可以根据数据情况（比如：专业领域等方面）微调embedding的模型参数（encoder）。"
      ],
      "metadata": {
        "id": "SDTqAFhE92R0"
      }
    },
    {
      "cell_type": "code",
      "source": [],
      "metadata": {
        "id": "rkTf7xWk-f-K"
      },
      "execution_count": null,
      "outputs": []
    }
  ],
  "metadata": {
    "kernelspec": {
      "display_name": "Python 3",
      "name": "python3"
    },
    "language_info": {
      "codemirror_mode": {
        "name": "ipython",
        "version": 3
      },
      "file_extension": ".py",
      "mimetype": "text/x-python",
      "name": "python",
      "nbconvert_exporter": "python",
      "pygments_lexer": "ipython3",
      "version": "3.10.12"
    },
    "colab": {
      "provenance": [],
      "gpuType": "T4",
      "include_colab_link": true
    },
    "accelerator": "GPU",
    "widgets": {
      "application/vnd.jupyter.widget-state+json": {
        "58d143e07fb0438eabd5f2123f9e1c13": {
          "model_module": "@jupyter-widgets/controls",
          "model_name": "HBoxModel",
          "model_module_version": "1.5.0",
          "state": {
            "_dom_classes": [],
            "_model_module": "@jupyter-widgets/controls",
            "_model_module_version": "1.5.0",
            "_model_name": "HBoxModel",
            "_view_count": null,
            "_view_module": "@jupyter-widgets/controls",
            "_view_module_version": "1.5.0",
            "_view_name": "HBoxView",
            "box_style": "",
            "children": [
              "IPY_MODEL_bee2d7e1e60f42d6910e9f6960f6773d",
              "IPY_MODEL_845f758782ca4c079bbb70c23a09a99c",
              "IPY_MODEL_fc6d670890d84088b48bd58c9b888d02"
            ],
            "layout": "IPY_MODEL_763e466f377340d0b062e14a398a17aa"
          }
        },
        "bee2d7e1e60f42d6910e9f6960f6773d": {
          "model_module": "@jupyter-widgets/controls",
          "model_name": "HTMLModel",
          "model_module_version": "1.5.0",
          "state": {
            "_dom_classes": [],
            "_model_module": "@jupyter-widgets/controls",
            "_model_module_version": "1.5.0",
            "_model_name": "HTMLModel",
            "_view_count": null,
            "_view_module": "@jupyter-widgets/controls",
            "_view_module_version": "1.5.0",
            "_view_name": "HTMLView",
            "description": "",
            "description_tooltip": null,
            "layout": "IPY_MODEL_fc55845d1ecb43d69569c766fffaf806",
            "placeholder": "​",
            "style": "IPY_MODEL_bf9c6dc2decd4765aa05b516406a4539",
            "value": "config.json: 100%"
          }
        },
        "845f758782ca4c079bbb70c23a09a99c": {
          "model_module": "@jupyter-widgets/controls",
          "model_name": "FloatProgressModel",
          "model_module_version": "1.5.0",
          "state": {
            "_dom_classes": [],
            "_model_module": "@jupyter-widgets/controls",
            "_model_module_version": "1.5.0",
            "_model_name": "FloatProgressModel",
            "_view_count": null,
            "_view_module": "@jupyter-widgets/controls",
            "_view_module_version": "1.5.0",
            "_view_name": "ProgressView",
            "bar_style": "success",
            "description": "",
            "description_tooltip": null,
            "layout": "IPY_MODEL_c7ec0923e0424f2c8c0793b199a09b87",
            "max": 659,
            "min": 0,
            "orientation": "horizontal",
            "style": "IPY_MODEL_caa9b720e70d433fb6b56805d83e7482",
            "value": 659
          }
        },
        "fc6d670890d84088b48bd58c9b888d02": {
          "model_module": "@jupyter-widgets/controls",
          "model_name": "HTMLModel",
          "model_module_version": "1.5.0",
          "state": {
            "_dom_classes": [],
            "_model_module": "@jupyter-widgets/controls",
            "_model_module_version": "1.5.0",
            "_model_name": "HTMLModel",
            "_view_count": null,
            "_view_module": "@jupyter-widgets/controls",
            "_view_module_version": "1.5.0",
            "_view_name": "HTMLView",
            "description": "",
            "description_tooltip": null,
            "layout": "IPY_MODEL_768b5049578d4f8389538a4d3f197a80",
            "placeholder": "​",
            "style": "IPY_MODEL_0a0625b5f54c42649af5be8fab666d3d",
            "value": " 659/659 [00:00&lt;00:00, 15.4kB/s]"
          }
        },
        "763e466f377340d0b062e14a398a17aa": {
          "model_module": "@jupyter-widgets/base",
          "model_name": "LayoutModel",
          "model_module_version": "1.2.0",
          "state": {
            "_model_module": "@jupyter-widgets/base",
            "_model_module_version": "1.2.0",
            "_model_name": "LayoutModel",
            "_view_count": null,
            "_view_module": "@jupyter-widgets/base",
            "_view_module_version": "1.2.0",
            "_view_name": "LayoutView",
            "align_content": null,
            "align_items": null,
            "align_self": null,
            "border": null,
            "bottom": null,
            "display": null,
            "flex": null,
            "flex_flow": null,
            "grid_area": null,
            "grid_auto_columns": null,
            "grid_auto_flow": null,
            "grid_auto_rows": null,
            "grid_column": null,
            "grid_gap": null,
            "grid_row": null,
            "grid_template_areas": null,
            "grid_template_columns": null,
            "grid_template_rows": null,
            "height": null,
            "justify_content": null,
            "justify_items": null,
            "left": null,
            "margin": null,
            "max_height": null,
            "max_width": null,
            "min_height": null,
            "min_width": null,
            "object_fit": null,
            "object_position": null,
            "order": null,
            "overflow": null,
            "overflow_x": null,
            "overflow_y": null,
            "padding": null,
            "right": null,
            "top": null,
            "visibility": null,
            "width": null
          }
        },
        "fc55845d1ecb43d69569c766fffaf806": {
          "model_module": "@jupyter-widgets/base",
          "model_name": "LayoutModel",
          "model_module_version": "1.2.0",
          "state": {
            "_model_module": "@jupyter-widgets/base",
            "_model_module_version": "1.2.0",
            "_model_name": "LayoutModel",
            "_view_count": null,
            "_view_module": "@jupyter-widgets/base",
            "_view_module_version": "1.2.0",
            "_view_name": "LayoutView",
            "align_content": null,
            "align_items": null,
            "align_self": null,
            "border": null,
            "bottom": null,
            "display": null,
            "flex": null,
            "flex_flow": null,
            "grid_area": null,
            "grid_auto_columns": null,
            "grid_auto_flow": null,
            "grid_auto_rows": null,
            "grid_column": null,
            "grid_gap": null,
            "grid_row": null,
            "grid_template_areas": null,
            "grid_template_columns": null,
            "grid_template_rows": null,
            "height": null,
            "justify_content": null,
            "justify_items": null,
            "left": null,
            "margin": null,
            "max_height": null,
            "max_width": null,
            "min_height": null,
            "min_width": null,
            "object_fit": null,
            "object_position": null,
            "order": null,
            "overflow": null,
            "overflow_x": null,
            "overflow_y": null,
            "padding": null,
            "right": null,
            "top": null,
            "visibility": null,
            "width": null
          }
        },
        "bf9c6dc2decd4765aa05b516406a4539": {
          "model_module": "@jupyter-widgets/controls",
          "model_name": "DescriptionStyleModel",
          "model_module_version": "1.5.0",
          "state": {
            "_model_module": "@jupyter-widgets/controls",
            "_model_module_version": "1.5.0",
            "_model_name": "DescriptionStyleModel",
            "_view_count": null,
            "_view_module": "@jupyter-widgets/base",
            "_view_module_version": "1.2.0",
            "_view_name": "StyleView",
            "description_width": ""
          }
        },
        "c7ec0923e0424f2c8c0793b199a09b87": {
          "model_module": "@jupyter-widgets/base",
          "model_name": "LayoutModel",
          "model_module_version": "1.2.0",
          "state": {
            "_model_module": "@jupyter-widgets/base",
            "_model_module_version": "1.2.0",
            "_model_name": "LayoutModel",
            "_view_count": null,
            "_view_module": "@jupyter-widgets/base",
            "_view_module_version": "1.2.0",
            "_view_name": "LayoutView",
            "align_content": null,
            "align_items": null,
            "align_self": null,
            "border": null,
            "bottom": null,
            "display": null,
            "flex": null,
            "flex_flow": null,
            "grid_area": null,
            "grid_auto_columns": null,
            "grid_auto_flow": null,
            "grid_auto_rows": null,
            "grid_column": null,
            "grid_gap": null,
            "grid_row": null,
            "grid_template_areas": null,
            "grid_template_columns": null,
            "grid_template_rows": null,
            "height": null,
            "justify_content": null,
            "justify_items": null,
            "left": null,
            "margin": null,
            "max_height": null,
            "max_width": null,
            "min_height": null,
            "min_width": null,
            "object_fit": null,
            "object_position": null,
            "order": null,
            "overflow": null,
            "overflow_x": null,
            "overflow_y": null,
            "padding": null,
            "right": null,
            "top": null,
            "visibility": null,
            "width": null
          }
        },
        "caa9b720e70d433fb6b56805d83e7482": {
          "model_module": "@jupyter-widgets/controls",
          "model_name": "ProgressStyleModel",
          "model_module_version": "1.5.0",
          "state": {
            "_model_module": "@jupyter-widgets/controls",
            "_model_module_version": "1.5.0",
            "_model_name": "ProgressStyleModel",
            "_view_count": null,
            "_view_module": "@jupyter-widgets/base",
            "_view_module_version": "1.2.0",
            "_view_name": "StyleView",
            "bar_color": null,
            "description_width": ""
          }
        },
        "768b5049578d4f8389538a4d3f197a80": {
          "model_module": "@jupyter-widgets/base",
          "model_name": "LayoutModel",
          "model_module_version": "1.2.0",
          "state": {
            "_model_module": "@jupyter-widgets/base",
            "_model_module_version": "1.2.0",
            "_model_name": "LayoutModel",
            "_view_count": null,
            "_view_module": "@jupyter-widgets/base",
            "_view_module_version": "1.2.0",
            "_view_name": "LayoutView",
            "align_content": null,
            "align_items": null,
            "align_self": null,
            "border": null,
            "bottom": null,
            "display": null,
            "flex": null,
            "flex_flow": null,
            "grid_area": null,
            "grid_auto_columns": null,
            "grid_auto_flow": null,
            "grid_auto_rows": null,
            "grid_column": null,
            "grid_gap": null,
            "grid_row": null,
            "grid_template_areas": null,
            "grid_template_columns": null,
            "grid_template_rows": null,
            "height": null,
            "justify_content": null,
            "justify_items": null,
            "left": null,
            "margin": null,
            "max_height": null,
            "max_width": null,
            "min_height": null,
            "min_width": null,
            "object_fit": null,
            "object_position": null,
            "order": null,
            "overflow": null,
            "overflow_x": null,
            "overflow_y": null,
            "padding": null,
            "right": null,
            "top": null,
            "visibility": null,
            "width": null
          }
        },
        "0a0625b5f54c42649af5be8fab666d3d": {
          "model_module": "@jupyter-widgets/controls",
          "model_name": "DescriptionStyleModel",
          "model_module_version": "1.5.0",
          "state": {
            "_model_module": "@jupyter-widgets/controls",
            "_model_module_version": "1.5.0",
            "_model_name": "DescriptionStyleModel",
            "_view_count": null,
            "_view_module": "@jupyter-widgets/base",
            "_view_module_version": "1.2.0",
            "_view_name": "StyleView",
            "description_width": ""
          }
        },
        "43880f0238fb4a5184264b4316ad414f": {
          "model_module": "@jupyter-widgets/controls",
          "model_name": "HBoxModel",
          "model_module_version": "1.5.0",
          "state": {
            "_dom_classes": [],
            "_model_module": "@jupyter-widgets/controls",
            "_model_module_version": "1.5.0",
            "_model_name": "HBoxModel",
            "_view_count": null,
            "_view_module": "@jupyter-widgets/controls",
            "_view_module_version": "1.5.0",
            "_view_name": "HBoxView",
            "box_style": "",
            "children": [
              "IPY_MODEL_9e01b2336c524f7bb230208a31c8ccc2",
              "IPY_MODEL_65b4d6785e66445f88ec3175a1b0c745",
              "IPY_MODEL_1a2d23d2f8bb42b39e2dc41f6dd6a6f5"
            ],
            "layout": "IPY_MODEL_bf90415ac2994f37b7834507d40550c0"
          }
        },
        "9e01b2336c524f7bb230208a31c8ccc2": {
          "model_module": "@jupyter-widgets/controls",
          "model_name": "HTMLModel",
          "model_module_version": "1.5.0",
          "state": {
            "_dom_classes": [],
            "_model_module": "@jupyter-widgets/controls",
            "_model_module_version": "1.5.0",
            "_model_name": "HTMLModel",
            "_view_count": null,
            "_view_module": "@jupyter-widgets/controls",
            "_view_module_version": "1.5.0",
            "_view_name": "HTMLView",
            "description": "",
            "description_tooltip": null,
            "layout": "IPY_MODEL_00d7c1f8b02e4c52be9fbf2511ce58eb",
            "placeholder": "​",
            "style": "IPY_MODEL_6b08db7c03624f95adff79ee5e20fbbe",
            "value": "model.safetensors: 100%"
          }
        },
        "65b4d6785e66445f88ec3175a1b0c745": {
          "model_module": "@jupyter-widgets/controls",
          "model_name": "FloatProgressModel",
          "model_module_version": "1.5.0",
          "state": {
            "_dom_classes": [],
            "_model_module": "@jupyter-widgets/controls",
            "_model_module_version": "1.5.0",
            "_model_name": "FloatProgressModel",
            "_view_count": null,
            "_view_module": "@jupyter-widgets/controls",
            "_view_module_version": "1.5.0",
            "_view_name": "ProgressView",
            "bar_style": "success",
            "description": "",
            "description_tooltip": null,
            "layout": "IPY_MODEL_bce46c0d9a01427dadf369f806226697",
            "max": 988097824,
            "min": 0,
            "orientation": "horizontal",
            "style": "IPY_MODEL_9f474bbdd3d4494697bfc40fcd863d77",
            "value": 988097824
          }
        },
        "1a2d23d2f8bb42b39e2dc41f6dd6a6f5": {
          "model_module": "@jupyter-widgets/controls",
          "model_name": "HTMLModel",
          "model_module_version": "1.5.0",
          "state": {
            "_dom_classes": [],
            "_model_module": "@jupyter-widgets/controls",
            "_model_module_version": "1.5.0",
            "_model_name": "HTMLModel",
            "_view_count": null,
            "_view_module": "@jupyter-widgets/controls",
            "_view_module_version": "1.5.0",
            "_view_name": "HTMLView",
            "description": "",
            "description_tooltip": null,
            "layout": "IPY_MODEL_0dd9269b5d7a4e10afbfdaf76d7c933d",
            "placeholder": "​",
            "style": "IPY_MODEL_114de8c6f3b344eb9295844a8c33f3e0",
            "value": " 988M/988M [00:12&lt;00:00, 170MB/s]"
          }
        },
        "bf90415ac2994f37b7834507d40550c0": {
          "model_module": "@jupyter-widgets/base",
          "model_name": "LayoutModel",
          "model_module_version": "1.2.0",
          "state": {
            "_model_module": "@jupyter-widgets/base",
            "_model_module_version": "1.2.0",
            "_model_name": "LayoutModel",
            "_view_count": null,
            "_view_module": "@jupyter-widgets/base",
            "_view_module_version": "1.2.0",
            "_view_name": "LayoutView",
            "align_content": null,
            "align_items": null,
            "align_self": null,
            "border": null,
            "bottom": null,
            "display": null,
            "flex": null,
            "flex_flow": null,
            "grid_area": null,
            "grid_auto_columns": null,
            "grid_auto_flow": null,
            "grid_auto_rows": null,
            "grid_column": null,
            "grid_gap": null,
            "grid_row": null,
            "grid_template_areas": null,
            "grid_template_columns": null,
            "grid_template_rows": null,
            "height": null,
            "justify_content": null,
            "justify_items": null,
            "left": null,
            "margin": null,
            "max_height": null,
            "max_width": null,
            "min_height": null,
            "min_width": null,
            "object_fit": null,
            "object_position": null,
            "order": null,
            "overflow": null,
            "overflow_x": null,
            "overflow_y": null,
            "padding": null,
            "right": null,
            "top": null,
            "visibility": null,
            "width": null
          }
        },
        "00d7c1f8b02e4c52be9fbf2511ce58eb": {
          "model_module": "@jupyter-widgets/base",
          "model_name": "LayoutModel",
          "model_module_version": "1.2.0",
          "state": {
            "_model_module": "@jupyter-widgets/base",
            "_model_module_version": "1.2.0",
            "_model_name": "LayoutModel",
            "_view_count": null,
            "_view_module": "@jupyter-widgets/base",
            "_view_module_version": "1.2.0",
            "_view_name": "LayoutView",
            "align_content": null,
            "align_items": null,
            "align_self": null,
            "border": null,
            "bottom": null,
            "display": null,
            "flex": null,
            "flex_flow": null,
            "grid_area": null,
            "grid_auto_columns": null,
            "grid_auto_flow": null,
            "grid_auto_rows": null,
            "grid_column": null,
            "grid_gap": null,
            "grid_row": null,
            "grid_template_areas": null,
            "grid_template_columns": null,
            "grid_template_rows": null,
            "height": null,
            "justify_content": null,
            "justify_items": null,
            "left": null,
            "margin": null,
            "max_height": null,
            "max_width": null,
            "min_height": null,
            "min_width": null,
            "object_fit": null,
            "object_position": null,
            "order": null,
            "overflow": null,
            "overflow_x": null,
            "overflow_y": null,
            "padding": null,
            "right": null,
            "top": null,
            "visibility": null,
            "width": null
          }
        },
        "6b08db7c03624f95adff79ee5e20fbbe": {
          "model_module": "@jupyter-widgets/controls",
          "model_name": "DescriptionStyleModel",
          "model_module_version": "1.5.0",
          "state": {
            "_model_module": "@jupyter-widgets/controls",
            "_model_module_version": "1.5.0",
            "_model_name": "DescriptionStyleModel",
            "_view_count": null,
            "_view_module": "@jupyter-widgets/base",
            "_view_module_version": "1.2.0",
            "_view_name": "StyleView",
            "description_width": ""
          }
        },
        "bce46c0d9a01427dadf369f806226697": {
          "model_module": "@jupyter-widgets/base",
          "model_name": "LayoutModel",
          "model_module_version": "1.2.0",
          "state": {
            "_model_module": "@jupyter-widgets/base",
            "_model_module_version": "1.2.0",
            "_model_name": "LayoutModel",
            "_view_count": null,
            "_view_module": "@jupyter-widgets/base",
            "_view_module_version": "1.2.0",
            "_view_name": "LayoutView",
            "align_content": null,
            "align_items": null,
            "align_self": null,
            "border": null,
            "bottom": null,
            "display": null,
            "flex": null,
            "flex_flow": null,
            "grid_area": null,
            "grid_auto_columns": null,
            "grid_auto_flow": null,
            "grid_auto_rows": null,
            "grid_column": null,
            "grid_gap": null,
            "grid_row": null,
            "grid_template_areas": null,
            "grid_template_columns": null,
            "grid_template_rows": null,
            "height": null,
            "justify_content": null,
            "justify_items": null,
            "left": null,
            "margin": null,
            "max_height": null,
            "max_width": null,
            "min_height": null,
            "min_width": null,
            "object_fit": null,
            "object_position": null,
            "order": null,
            "overflow": null,
            "overflow_x": null,
            "overflow_y": null,
            "padding": null,
            "right": null,
            "top": null,
            "visibility": null,
            "width": null
          }
        },
        "9f474bbdd3d4494697bfc40fcd863d77": {
          "model_module": "@jupyter-widgets/controls",
          "model_name": "ProgressStyleModel",
          "model_module_version": "1.5.0",
          "state": {
            "_model_module": "@jupyter-widgets/controls",
            "_model_module_version": "1.5.0",
            "_model_name": "ProgressStyleModel",
            "_view_count": null,
            "_view_module": "@jupyter-widgets/base",
            "_view_module_version": "1.2.0",
            "_view_name": "StyleView",
            "bar_color": null,
            "description_width": ""
          }
        },
        "0dd9269b5d7a4e10afbfdaf76d7c933d": {
          "model_module": "@jupyter-widgets/base",
          "model_name": "LayoutModel",
          "model_module_version": "1.2.0",
          "state": {
            "_model_module": "@jupyter-widgets/base",
            "_model_module_version": "1.2.0",
            "_model_name": "LayoutModel",
            "_view_count": null,
            "_view_module": "@jupyter-widgets/base",
            "_view_module_version": "1.2.0",
            "_view_name": "LayoutView",
            "align_content": null,
            "align_items": null,
            "align_self": null,
            "border": null,
            "bottom": null,
            "display": null,
            "flex": null,
            "flex_flow": null,
            "grid_area": null,
            "grid_auto_columns": null,
            "grid_auto_flow": null,
            "grid_auto_rows": null,
            "grid_column": null,
            "grid_gap": null,
            "grid_row": null,
            "grid_template_areas": null,
            "grid_template_columns": null,
            "grid_template_rows": null,
            "height": null,
            "justify_content": null,
            "justify_items": null,
            "left": null,
            "margin": null,
            "max_height": null,
            "max_width": null,
            "min_height": null,
            "min_width": null,
            "object_fit": null,
            "object_position": null,
            "order": null,
            "overflow": null,
            "overflow_x": null,
            "overflow_y": null,
            "padding": null,
            "right": null,
            "top": null,
            "visibility": null,
            "width": null
          }
        },
        "114de8c6f3b344eb9295844a8c33f3e0": {
          "model_module": "@jupyter-widgets/controls",
          "model_name": "DescriptionStyleModel",
          "model_module_version": "1.5.0",
          "state": {
            "_model_module": "@jupyter-widgets/controls",
            "_model_module_version": "1.5.0",
            "_model_name": "DescriptionStyleModel",
            "_view_count": null,
            "_view_module": "@jupyter-widgets/base",
            "_view_module_version": "1.2.0",
            "_view_name": "StyleView",
            "description_width": ""
          }
        },
        "4852240487d24c37917a7b7975cf87e4": {
          "model_module": "@jupyter-widgets/controls",
          "model_name": "HBoxModel",
          "model_module_version": "1.5.0",
          "state": {
            "_dom_classes": [],
            "_model_module": "@jupyter-widgets/controls",
            "_model_module_version": "1.5.0",
            "_model_name": "HBoxModel",
            "_view_count": null,
            "_view_module": "@jupyter-widgets/controls",
            "_view_module_version": "1.5.0",
            "_view_name": "HBoxView",
            "box_style": "",
            "children": [
              "IPY_MODEL_d989ac12db0f42b689ce03316b7e1d3f",
              "IPY_MODEL_564357999f4d46409da8e60562af7112",
              "IPY_MODEL_7ea5525d460445c3a7c2f4479574d6fe"
            ],
            "layout": "IPY_MODEL_0228eb075354445ca82ee5032c075dde"
          }
        },
        "d989ac12db0f42b689ce03316b7e1d3f": {
          "model_module": "@jupyter-widgets/controls",
          "model_name": "HTMLModel",
          "model_module_version": "1.5.0",
          "state": {
            "_dom_classes": [],
            "_model_module": "@jupyter-widgets/controls",
            "_model_module_version": "1.5.0",
            "_model_name": "HTMLModel",
            "_view_count": null,
            "_view_module": "@jupyter-widgets/controls",
            "_view_module_version": "1.5.0",
            "_view_name": "HTMLView",
            "description": "",
            "description_tooltip": null,
            "layout": "IPY_MODEL_6134926aaf1f44f4a18047afca7c7519",
            "placeholder": "​",
            "style": "IPY_MODEL_d98fe9ad380945f2a023dd04bc5c4965",
            "value": "generation_config.json: 100%"
          }
        },
        "564357999f4d46409da8e60562af7112": {
          "model_module": "@jupyter-widgets/controls",
          "model_name": "FloatProgressModel",
          "model_module_version": "1.5.0",
          "state": {
            "_dom_classes": [],
            "_model_module": "@jupyter-widgets/controls",
            "_model_module_version": "1.5.0",
            "_model_name": "FloatProgressModel",
            "_view_count": null,
            "_view_module": "@jupyter-widgets/controls",
            "_view_module_version": "1.5.0",
            "_view_name": "ProgressView",
            "bar_style": "success",
            "description": "",
            "description_tooltip": null,
            "layout": "IPY_MODEL_c3dfb2d44af4473d801b32d0a84287d8",
            "max": 242,
            "min": 0,
            "orientation": "horizontal",
            "style": "IPY_MODEL_ce8933aa232e4db398c354b7c4f136e4",
            "value": 242
          }
        },
        "7ea5525d460445c3a7c2f4479574d6fe": {
          "model_module": "@jupyter-widgets/controls",
          "model_name": "HTMLModel",
          "model_module_version": "1.5.0",
          "state": {
            "_dom_classes": [],
            "_model_module": "@jupyter-widgets/controls",
            "_model_module_version": "1.5.0",
            "_model_name": "HTMLModel",
            "_view_count": null,
            "_view_module": "@jupyter-widgets/controls",
            "_view_module_version": "1.5.0",
            "_view_name": "HTMLView",
            "description": "",
            "description_tooltip": null,
            "layout": "IPY_MODEL_954eeaaf701145eca5a143fe6b445a9b",
            "placeholder": "​",
            "style": "IPY_MODEL_8ece99807f074c4fa782f4d08d44d44a",
            "value": " 242/242 [00:00&lt;00:00, 25.7kB/s]"
          }
        },
        "0228eb075354445ca82ee5032c075dde": {
          "model_module": "@jupyter-widgets/base",
          "model_name": "LayoutModel",
          "model_module_version": "1.2.0",
          "state": {
            "_model_module": "@jupyter-widgets/base",
            "_model_module_version": "1.2.0",
            "_model_name": "LayoutModel",
            "_view_count": null,
            "_view_module": "@jupyter-widgets/base",
            "_view_module_version": "1.2.0",
            "_view_name": "LayoutView",
            "align_content": null,
            "align_items": null,
            "align_self": null,
            "border": null,
            "bottom": null,
            "display": null,
            "flex": null,
            "flex_flow": null,
            "grid_area": null,
            "grid_auto_columns": null,
            "grid_auto_flow": null,
            "grid_auto_rows": null,
            "grid_column": null,
            "grid_gap": null,
            "grid_row": null,
            "grid_template_areas": null,
            "grid_template_columns": null,
            "grid_template_rows": null,
            "height": null,
            "justify_content": null,
            "justify_items": null,
            "left": null,
            "margin": null,
            "max_height": null,
            "max_width": null,
            "min_height": null,
            "min_width": null,
            "object_fit": null,
            "object_position": null,
            "order": null,
            "overflow": null,
            "overflow_x": null,
            "overflow_y": null,
            "padding": null,
            "right": null,
            "top": null,
            "visibility": null,
            "width": null
          }
        },
        "6134926aaf1f44f4a18047afca7c7519": {
          "model_module": "@jupyter-widgets/base",
          "model_name": "LayoutModel",
          "model_module_version": "1.2.0",
          "state": {
            "_model_module": "@jupyter-widgets/base",
            "_model_module_version": "1.2.0",
            "_model_name": "LayoutModel",
            "_view_count": null,
            "_view_module": "@jupyter-widgets/base",
            "_view_module_version": "1.2.0",
            "_view_name": "LayoutView",
            "align_content": null,
            "align_items": null,
            "align_self": null,
            "border": null,
            "bottom": null,
            "display": null,
            "flex": null,
            "flex_flow": null,
            "grid_area": null,
            "grid_auto_columns": null,
            "grid_auto_flow": null,
            "grid_auto_rows": null,
            "grid_column": null,
            "grid_gap": null,
            "grid_row": null,
            "grid_template_areas": null,
            "grid_template_columns": null,
            "grid_template_rows": null,
            "height": null,
            "justify_content": null,
            "justify_items": null,
            "left": null,
            "margin": null,
            "max_height": null,
            "max_width": null,
            "min_height": null,
            "min_width": null,
            "object_fit": null,
            "object_position": null,
            "order": null,
            "overflow": null,
            "overflow_x": null,
            "overflow_y": null,
            "padding": null,
            "right": null,
            "top": null,
            "visibility": null,
            "width": null
          }
        },
        "d98fe9ad380945f2a023dd04bc5c4965": {
          "model_module": "@jupyter-widgets/controls",
          "model_name": "DescriptionStyleModel",
          "model_module_version": "1.5.0",
          "state": {
            "_model_module": "@jupyter-widgets/controls",
            "_model_module_version": "1.5.0",
            "_model_name": "DescriptionStyleModel",
            "_view_count": null,
            "_view_module": "@jupyter-widgets/base",
            "_view_module_version": "1.2.0",
            "_view_name": "StyleView",
            "description_width": ""
          }
        },
        "c3dfb2d44af4473d801b32d0a84287d8": {
          "model_module": "@jupyter-widgets/base",
          "model_name": "LayoutModel",
          "model_module_version": "1.2.0",
          "state": {
            "_model_module": "@jupyter-widgets/base",
            "_model_module_version": "1.2.0",
            "_model_name": "LayoutModel",
            "_view_count": null,
            "_view_module": "@jupyter-widgets/base",
            "_view_module_version": "1.2.0",
            "_view_name": "LayoutView",
            "align_content": null,
            "align_items": null,
            "align_self": null,
            "border": null,
            "bottom": null,
            "display": null,
            "flex": null,
            "flex_flow": null,
            "grid_area": null,
            "grid_auto_columns": null,
            "grid_auto_flow": null,
            "grid_auto_rows": null,
            "grid_column": null,
            "grid_gap": null,
            "grid_row": null,
            "grid_template_areas": null,
            "grid_template_columns": null,
            "grid_template_rows": null,
            "height": null,
            "justify_content": null,
            "justify_items": null,
            "left": null,
            "margin": null,
            "max_height": null,
            "max_width": null,
            "min_height": null,
            "min_width": null,
            "object_fit": null,
            "object_position": null,
            "order": null,
            "overflow": null,
            "overflow_x": null,
            "overflow_y": null,
            "padding": null,
            "right": null,
            "top": null,
            "visibility": null,
            "width": null
          }
        },
        "ce8933aa232e4db398c354b7c4f136e4": {
          "model_module": "@jupyter-widgets/controls",
          "model_name": "ProgressStyleModel",
          "model_module_version": "1.5.0",
          "state": {
            "_model_module": "@jupyter-widgets/controls",
            "_model_module_version": "1.5.0",
            "_model_name": "ProgressStyleModel",
            "_view_count": null,
            "_view_module": "@jupyter-widgets/base",
            "_view_module_version": "1.2.0",
            "_view_name": "StyleView",
            "bar_color": null,
            "description_width": ""
          }
        },
        "954eeaaf701145eca5a143fe6b445a9b": {
          "model_module": "@jupyter-widgets/base",
          "model_name": "LayoutModel",
          "model_module_version": "1.2.0",
          "state": {
            "_model_module": "@jupyter-widgets/base",
            "_model_module_version": "1.2.0",
            "_model_name": "LayoutModel",
            "_view_count": null,
            "_view_module": "@jupyter-widgets/base",
            "_view_module_version": "1.2.0",
            "_view_name": "LayoutView",
            "align_content": null,
            "align_items": null,
            "align_self": null,
            "border": null,
            "bottom": null,
            "display": null,
            "flex": null,
            "flex_flow": null,
            "grid_area": null,
            "grid_auto_columns": null,
            "grid_auto_flow": null,
            "grid_auto_rows": null,
            "grid_column": null,
            "grid_gap": null,
            "grid_row": null,
            "grid_template_areas": null,
            "grid_template_columns": null,
            "grid_template_rows": null,
            "height": null,
            "justify_content": null,
            "justify_items": null,
            "left": null,
            "margin": null,
            "max_height": null,
            "max_width": null,
            "min_height": null,
            "min_width": null,
            "object_fit": null,
            "object_position": null,
            "order": null,
            "overflow": null,
            "overflow_x": null,
            "overflow_y": null,
            "padding": null,
            "right": null,
            "top": null,
            "visibility": null,
            "width": null
          }
        },
        "8ece99807f074c4fa782f4d08d44d44a": {
          "model_module": "@jupyter-widgets/controls",
          "model_name": "DescriptionStyleModel",
          "model_module_version": "1.5.0",
          "state": {
            "_model_module": "@jupyter-widgets/controls",
            "_model_module_version": "1.5.0",
            "_model_name": "DescriptionStyleModel",
            "_view_count": null,
            "_view_module": "@jupyter-widgets/base",
            "_view_module_version": "1.2.0",
            "_view_name": "StyleView",
            "description_width": ""
          }
        },
        "bd1b2b227d0a4cefbfe1340c80cac322": {
          "model_module": "@jupyter-widgets/controls",
          "model_name": "HBoxModel",
          "model_module_version": "1.5.0",
          "state": {
            "_dom_classes": [],
            "_model_module": "@jupyter-widgets/controls",
            "_model_module_version": "1.5.0",
            "_model_name": "HBoxModel",
            "_view_count": null,
            "_view_module": "@jupyter-widgets/controls",
            "_view_module_version": "1.5.0",
            "_view_name": "HBoxView",
            "box_style": "",
            "children": [
              "IPY_MODEL_edc16cdf672548e7bbfa9b492e99bd4a",
              "IPY_MODEL_497a60262dc541f0a259fbe0f43d004c",
              "IPY_MODEL_41d11a707d7f403bbb2deca360880dd7"
            ],
            "layout": "IPY_MODEL_c22476e9c6cd40dfa288cbafe314c141"
          }
        },
        "edc16cdf672548e7bbfa9b492e99bd4a": {
          "model_module": "@jupyter-widgets/controls",
          "model_name": "HTMLModel",
          "model_module_version": "1.5.0",
          "state": {
            "_dom_classes": [],
            "_model_module": "@jupyter-widgets/controls",
            "_model_module_version": "1.5.0",
            "_model_name": "HTMLModel",
            "_view_count": null,
            "_view_module": "@jupyter-widgets/controls",
            "_view_module_version": "1.5.0",
            "_view_name": "HTMLView",
            "description": "",
            "description_tooltip": null,
            "layout": "IPY_MODEL_894de278a424452e9c26da88678ee3d6",
            "placeholder": "​",
            "style": "IPY_MODEL_82530ce189ca4075b801658f84ca35da",
            "value": "tokenizer_config.json: 100%"
          }
        },
        "497a60262dc541f0a259fbe0f43d004c": {
          "model_module": "@jupyter-widgets/controls",
          "model_name": "FloatProgressModel",
          "model_module_version": "1.5.0",
          "state": {
            "_dom_classes": [],
            "_model_module": "@jupyter-widgets/controls",
            "_model_module_version": "1.5.0",
            "_model_name": "FloatProgressModel",
            "_view_count": null,
            "_view_module": "@jupyter-widgets/controls",
            "_view_module_version": "1.5.0",
            "_view_name": "ProgressView",
            "bar_style": "success",
            "description": "",
            "description_tooltip": null,
            "layout": "IPY_MODEL_6ff6f5d6931a44d2b6dbcdf5392263be",
            "max": 7305,
            "min": 0,
            "orientation": "horizontal",
            "style": "IPY_MODEL_5e26db1ee10b46b48732a9cb905198f2",
            "value": 7305
          }
        },
        "41d11a707d7f403bbb2deca360880dd7": {
          "model_module": "@jupyter-widgets/controls",
          "model_name": "HTMLModel",
          "model_module_version": "1.5.0",
          "state": {
            "_dom_classes": [],
            "_model_module": "@jupyter-widgets/controls",
            "_model_module_version": "1.5.0",
            "_model_name": "HTMLModel",
            "_view_count": null,
            "_view_module": "@jupyter-widgets/controls",
            "_view_module_version": "1.5.0",
            "_view_name": "HTMLView",
            "description": "",
            "description_tooltip": null,
            "layout": "IPY_MODEL_a20583cd08e54022af8f2e824a259c29",
            "placeholder": "​",
            "style": "IPY_MODEL_e31dad8f16644d48880470feed40a5fe",
            "value": " 7.30k/7.30k [00:00&lt;00:00, 672kB/s]"
          }
        },
        "c22476e9c6cd40dfa288cbafe314c141": {
          "model_module": "@jupyter-widgets/base",
          "model_name": "LayoutModel",
          "model_module_version": "1.2.0",
          "state": {
            "_model_module": "@jupyter-widgets/base",
            "_model_module_version": "1.2.0",
            "_model_name": "LayoutModel",
            "_view_count": null,
            "_view_module": "@jupyter-widgets/base",
            "_view_module_version": "1.2.0",
            "_view_name": "LayoutView",
            "align_content": null,
            "align_items": null,
            "align_self": null,
            "border": null,
            "bottom": null,
            "display": null,
            "flex": null,
            "flex_flow": null,
            "grid_area": null,
            "grid_auto_columns": null,
            "grid_auto_flow": null,
            "grid_auto_rows": null,
            "grid_column": null,
            "grid_gap": null,
            "grid_row": null,
            "grid_template_areas": null,
            "grid_template_columns": null,
            "grid_template_rows": null,
            "height": null,
            "justify_content": null,
            "justify_items": null,
            "left": null,
            "margin": null,
            "max_height": null,
            "max_width": null,
            "min_height": null,
            "min_width": null,
            "object_fit": null,
            "object_position": null,
            "order": null,
            "overflow": null,
            "overflow_x": null,
            "overflow_y": null,
            "padding": null,
            "right": null,
            "top": null,
            "visibility": null,
            "width": null
          }
        },
        "894de278a424452e9c26da88678ee3d6": {
          "model_module": "@jupyter-widgets/base",
          "model_name": "LayoutModel",
          "model_module_version": "1.2.0",
          "state": {
            "_model_module": "@jupyter-widgets/base",
            "_model_module_version": "1.2.0",
            "_model_name": "LayoutModel",
            "_view_count": null,
            "_view_module": "@jupyter-widgets/base",
            "_view_module_version": "1.2.0",
            "_view_name": "LayoutView",
            "align_content": null,
            "align_items": null,
            "align_self": null,
            "border": null,
            "bottom": null,
            "display": null,
            "flex": null,
            "flex_flow": null,
            "grid_area": null,
            "grid_auto_columns": null,
            "grid_auto_flow": null,
            "grid_auto_rows": null,
            "grid_column": null,
            "grid_gap": null,
            "grid_row": null,
            "grid_template_areas": null,
            "grid_template_columns": null,
            "grid_template_rows": null,
            "height": null,
            "justify_content": null,
            "justify_items": null,
            "left": null,
            "margin": null,
            "max_height": null,
            "max_width": null,
            "min_height": null,
            "min_width": null,
            "object_fit": null,
            "object_position": null,
            "order": null,
            "overflow": null,
            "overflow_x": null,
            "overflow_y": null,
            "padding": null,
            "right": null,
            "top": null,
            "visibility": null,
            "width": null
          }
        },
        "82530ce189ca4075b801658f84ca35da": {
          "model_module": "@jupyter-widgets/controls",
          "model_name": "DescriptionStyleModel",
          "model_module_version": "1.5.0",
          "state": {
            "_model_module": "@jupyter-widgets/controls",
            "_model_module_version": "1.5.0",
            "_model_name": "DescriptionStyleModel",
            "_view_count": null,
            "_view_module": "@jupyter-widgets/base",
            "_view_module_version": "1.2.0",
            "_view_name": "StyleView",
            "description_width": ""
          }
        },
        "6ff6f5d6931a44d2b6dbcdf5392263be": {
          "model_module": "@jupyter-widgets/base",
          "model_name": "LayoutModel",
          "model_module_version": "1.2.0",
          "state": {
            "_model_module": "@jupyter-widgets/base",
            "_model_module_version": "1.2.0",
            "_model_name": "LayoutModel",
            "_view_count": null,
            "_view_module": "@jupyter-widgets/base",
            "_view_module_version": "1.2.0",
            "_view_name": "LayoutView",
            "align_content": null,
            "align_items": null,
            "align_self": null,
            "border": null,
            "bottom": null,
            "display": null,
            "flex": null,
            "flex_flow": null,
            "grid_area": null,
            "grid_auto_columns": null,
            "grid_auto_flow": null,
            "grid_auto_rows": null,
            "grid_column": null,
            "grid_gap": null,
            "grid_row": null,
            "grid_template_areas": null,
            "grid_template_columns": null,
            "grid_template_rows": null,
            "height": null,
            "justify_content": null,
            "justify_items": null,
            "left": null,
            "margin": null,
            "max_height": null,
            "max_width": null,
            "min_height": null,
            "min_width": null,
            "object_fit": null,
            "object_position": null,
            "order": null,
            "overflow": null,
            "overflow_x": null,
            "overflow_y": null,
            "padding": null,
            "right": null,
            "top": null,
            "visibility": null,
            "width": null
          }
        },
        "5e26db1ee10b46b48732a9cb905198f2": {
          "model_module": "@jupyter-widgets/controls",
          "model_name": "ProgressStyleModel",
          "model_module_version": "1.5.0",
          "state": {
            "_model_module": "@jupyter-widgets/controls",
            "_model_module_version": "1.5.0",
            "_model_name": "ProgressStyleModel",
            "_view_count": null,
            "_view_module": "@jupyter-widgets/base",
            "_view_module_version": "1.2.0",
            "_view_name": "StyleView",
            "bar_color": null,
            "description_width": ""
          }
        },
        "a20583cd08e54022af8f2e824a259c29": {
          "model_module": "@jupyter-widgets/base",
          "model_name": "LayoutModel",
          "model_module_version": "1.2.0",
          "state": {
            "_model_module": "@jupyter-widgets/base",
            "_model_module_version": "1.2.0",
            "_model_name": "LayoutModel",
            "_view_count": null,
            "_view_module": "@jupyter-widgets/base",
            "_view_module_version": "1.2.0",
            "_view_name": "LayoutView",
            "align_content": null,
            "align_items": null,
            "align_self": null,
            "border": null,
            "bottom": null,
            "display": null,
            "flex": null,
            "flex_flow": null,
            "grid_area": null,
            "grid_auto_columns": null,
            "grid_auto_flow": null,
            "grid_auto_rows": null,
            "grid_column": null,
            "grid_gap": null,
            "grid_row": null,
            "grid_template_areas": null,
            "grid_template_columns": null,
            "grid_template_rows": null,
            "height": null,
            "justify_content": null,
            "justify_items": null,
            "left": null,
            "margin": null,
            "max_height": null,
            "max_width": null,
            "min_height": null,
            "min_width": null,
            "object_fit": null,
            "object_position": null,
            "order": null,
            "overflow": null,
            "overflow_x": null,
            "overflow_y": null,
            "padding": null,
            "right": null,
            "top": null,
            "visibility": null,
            "width": null
          }
        },
        "e31dad8f16644d48880470feed40a5fe": {
          "model_module": "@jupyter-widgets/controls",
          "model_name": "DescriptionStyleModel",
          "model_module_version": "1.5.0",
          "state": {
            "_model_module": "@jupyter-widgets/controls",
            "_model_module_version": "1.5.0",
            "_model_name": "DescriptionStyleModel",
            "_view_count": null,
            "_view_module": "@jupyter-widgets/base",
            "_view_module_version": "1.2.0",
            "_view_name": "StyleView",
            "description_width": ""
          }
        },
        "b1df5be06ad84ebb82aac3a2e1c8282e": {
          "model_module": "@jupyter-widgets/controls",
          "model_name": "HBoxModel",
          "model_module_version": "1.5.0",
          "state": {
            "_dom_classes": [],
            "_model_module": "@jupyter-widgets/controls",
            "_model_module_version": "1.5.0",
            "_model_name": "HBoxModel",
            "_view_count": null,
            "_view_module": "@jupyter-widgets/controls",
            "_view_module_version": "1.5.0",
            "_view_name": "HBoxView",
            "box_style": "",
            "children": [
              "IPY_MODEL_f995d7cd9d244181a5068c5385868c6d",
              "IPY_MODEL_7933d09c40ba4de194c290e1655f57ca",
              "IPY_MODEL_42764dd93d7a4d44862834775dca1814"
            ],
            "layout": "IPY_MODEL_c629b1011a81478e93dd913ce5f44055"
          }
        },
        "f995d7cd9d244181a5068c5385868c6d": {
          "model_module": "@jupyter-widgets/controls",
          "model_name": "HTMLModel",
          "model_module_version": "1.5.0",
          "state": {
            "_dom_classes": [],
            "_model_module": "@jupyter-widgets/controls",
            "_model_module_version": "1.5.0",
            "_model_name": "HTMLModel",
            "_view_count": null,
            "_view_module": "@jupyter-widgets/controls",
            "_view_module_version": "1.5.0",
            "_view_name": "HTMLView",
            "description": "",
            "description_tooltip": null,
            "layout": "IPY_MODEL_cf67e529b8f147cb8464a0b4284fcbea",
            "placeholder": "​",
            "style": "IPY_MODEL_107b8ce38d1b44349246979b707bfaaa",
            "value": "vocab.json: 100%"
          }
        },
        "7933d09c40ba4de194c290e1655f57ca": {
          "model_module": "@jupyter-widgets/controls",
          "model_name": "FloatProgressModel",
          "model_module_version": "1.5.0",
          "state": {
            "_dom_classes": [],
            "_model_module": "@jupyter-widgets/controls",
            "_model_module_version": "1.5.0",
            "_model_name": "FloatProgressModel",
            "_view_count": null,
            "_view_module": "@jupyter-widgets/controls",
            "_view_module_version": "1.5.0",
            "_view_name": "ProgressView",
            "bar_style": "success",
            "description": "",
            "description_tooltip": null,
            "layout": "IPY_MODEL_af8f4034fdb9483fa54accd825882a17",
            "max": 2776833,
            "min": 0,
            "orientation": "horizontal",
            "style": "IPY_MODEL_06238116eb644df1a426021441181e5b",
            "value": 2776833
          }
        },
        "42764dd93d7a4d44862834775dca1814": {
          "model_module": "@jupyter-widgets/controls",
          "model_name": "HTMLModel",
          "model_module_version": "1.5.0",
          "state": {
            "_dom_classes": [],
            "_model_module": "@jupyter-widgets/controls",
            "_model_module_version": "1.5.0",
            "_model_name": "HTMLModel",
            "_view_count": null,
            "_view_module": "@jupyter-widgets/controls",
            "_view_module_version": "1.5.0",
            "_view_name": "HTMLView",
            "description": "",
            "description_tooltip": null,
            "layout": "IPY_MODEL_6c3df0680e31487fba948bed5abc70f9",
            "placeholder": "​",
            "style": "IPY_MODEL_7e9f4467f1dd471c805656572cc1e27f",
            "value": " 2.78M/2.78M [00:00&lt;00:00, 10.9MB/s]"
          }
        },
        "c629b1011a81478e93dd913ce5f44055": {
          "model_module": "@jupyter-widgets/base",
          "model_name": "LayoutModel",
          "model_module_version": "1.2.0",
          "state": {
            "_model_module": "@jupyter-widgets/base",
            "_model_module_version": "1.2.0",
            "_model_name": "LayoutModel",
            "_view_count": null,
            "_view_module": "@jupyter-widgets/base",
            "_view_module_version": "1.2.0",
            "_view_name": "LayoutView",
            "align_content": null,
            "align_items": null,
            "align_self": null,
            "border": null,
            "bottom": null,
            "display": null,
            "flex": null,
            "flex_flow": null,
            "grid_area": null,
            "grid_auto_columns": null,
            "grid_auto_flow": null,
            "grid_auto_rows": null,
            "grid_column": null,
            "grid_gap": null,
            "grid_row": null,
            "grid_template_areas": null,
            "grid_template_columns": null,
            "grid_template_rows": null,
            "height": null,
            "justify_content": null,
            "justify_items": null,
            "left": null,
            "margin": null,
            "max_height": null,
            "max_width": null,
            "min_height": null,
            "min_width": null,
            "object_fit": null,
            "object_position": null,
            "order": null,
            "overflow": null,
            "overflow_x": null,
            "overflow_y": null,
            "padding": null,
            "right": null,
            "top": null,
            "visibility": null,
            "width": null
          }
        },
        "cf67e529b8f147cb8464a0b4284fcbea": {
          "model_module": "@jupyter-widgets/base",
          "model_name": "LayoutModel",
          "model_module_version": "1.2.0",
          "state": {
            "_model_module": "@jupyter-widgets/base",
            "_model_module_version": "1.2.0",
            "_model_name": "LayoutModel",
            "_view_count": null,
            "_view_module": "@jupyter-widgets/base",
            "_view_module_version": "1.2.0",
            "_view_name": "LayoutView",
            "align_content": null,
            "align_items": null,
            "align_self": null,
            "border": null,
            "bottom": null,
            "display": null,
            "flex": null,
            "flex_flow": null,
            "grid_area": null,
            "grid_auto_columns": null,
            "grid_auto_flow": null,
            "grid_auto_rows": null,
            "grid_column": null,
            "grid_gap": null,
            "grid_row": null,
            "grid_template_areas": null,
            "grid_template_columns": null,
            "grid_template_rows": null,
            "height": null,
            "justify_content": null,
            "justify_items": null,
            "left": null,
            "margin": null,
            "max_height": null,
            "max_width": null,
            "min_height": null,
            "min_width": null,
            "object_fit": null,
            "object_position": null,
            "order": null,
            "overflow": null,
            "overflow_x": null,
            "overflow_y": null,
            "padding": null,
            "right": null,
            "top": null,
            "visibility": null,
            "width": null
          }
        },
        "107b8ce38d1b44349246979b707bfaaa": {
          "model_module": "@jupyter-widgets/controls",
          "model_name": "DescriptionStyleModel",
          "model_module_version": "1.5.0",
          "state": {
            "_model_module": "@jupyter-widgets/controls",
            "_model_module_version": "1.5.0",
            "_model_name": "DescriptionStyleModel",
            "_view_count": null,
            "_view_module": "@jupyter-widgets/base",
            "_view_module_version": "1.2.0",
            "_view_name": "StyleView",
            "description_width": ""
          }
        },
        "af8f4034fdb9483fa54accd825882a17": {
          "model_module": "@jupyter-widgets/base",
          "model_name": "LayoutModel",
          "model_module_version": "1.2.0",
          "state": {
            "_model_module": "@jupyter-widgets/base",
            "_model_module_version": "1.2.0",
            "_model_name": "LayoutModel",
            "_view_count": null,
            "_view_module": "@jupyter-widgets/base",
            "_view_module_version": "1.2.0",
            "_view_name": "LayoutView",
            "align_content": null,
            "align_items": null,
            "align_self": null,
            "border": null,
            "bottom": null,
            "display": null,
            "flex": null,
            "flex_flow": null,
            "grid_area": null,
            "grid_auto_columns": null,
            "grid_auto_flow": null,
            "grid_auto_rows": null,
            "grid_column": null,
            "grid_gap": null,
            "grid_row": null,
            "grid_template_areas": null,
            "grid_template_columns": null,
            "grid_template_rows": null,
            "height": null,
            "justify_content": null,
            "justify_items": null,
            "left": null,
            "margin": null,
            "max_height": null,
            "max_width": null,
            "min_height": null,
            "min_width": null,
            "object_fit": null,
            "object_position": null,
            "order": null,
            "overflow": null,
            "overflow_x": null,
            "overflow_y": null,
            "padding": null,
            "right": null,
            "top": null,
            "visibility": null,
            "width": null
          }
        },
        "06238116eb644df1a426021441181e5b": {
          "model_module": "@jupyter-widgets/controls",
          "model_name": "ProgressStyleModel",
          "model_module_version": "1.5.0",
          "state": {
            "_model_module": "@jupyter-widgets/controls",
            "_model_module_version": "1.5.0",
            "_model_name": "ProgressStyleModel",
            "_view_count": null,
            "_view_module": "@jupyter-widgets/base",
            "_view_module_version": "1.2.0",
            "_view_name": "StyleView",
            "bar_color": null,
            "description_width": ""
          }
        },
        "6c3df0680e31487fba948bed5abc70f9": {
          "model_module": "@jupyter-widgets/base",
          "model_name": "LayoutModel",
          "model_module_version": "1.2.0",
          "state": {
            "_model_module": "@jupyter-widgets/base",
            "_model_module_version": "1.2.0",
            "_model_name": "LayoutModel",
            "_view_count": null,
            "_view_module": "@jupyter-widgets/base",
            "_view_module_version": "1.2.0",
            "_view_name": "LayoutView",
            "align_content": null,
            "align_items": null,
            "align_self": null,
            "border": null,
            "bottom": null,
            "display": null,
            "flex": null,
            "flex_flow": null,
            "grid_area": null,
            "grid_auto_columns": null,
            "grid_auto_flow": null,
            "grid_auto_rows": null,
            "grid_column": null,
            "grid_gap": null,
            "grid_row": null,
            "grid_template_areas": null,
            "grid_template_columns": null,
            "grid_template_rows": null,
            "height": null,
            "justify_content": null,
            "justify_items": null,
            "left": null,
            "margin": null,
            "max_height": null,
            "max_width": null,
            "min_height": null,
            "min_width": null,
            "object_fit": null,
            "object_position": null,
            "order": null,
            "overflow": null,
            "overflow_x": null,
            "overflow_y": null,
            "padding": null,
            "right": null,
            "top": null,
            "visibility": null,
            "width": null
          }
        },
        "7e9f4467f1dd471c805656572cc1e27f": {
          "model_module": "@jupyter-widgets/controls",
          "model_name": "DescriptionStyleModel",
          "model_module_version": "1.5.0",
          "state": {
            "_model_module": "@jupyter-widgets/controls",
            "_model_module_version": "1.5.0",
            "_model_name": "DescriptionStyleModel",
            "_view_count": null,
            "_view_module": "@jupyter-widgets/base",
            "_view_module_version": "1.2.0",
            "_view_name": "StyleView",
            "description_width": ""
          }
        },
        "d5dcc7ec19d04655902be0a46de0d214": {
          "model_module": "@jupyter-widgets/controls",
          "model_name": "HBoxModel",
          "model_module_version": "1.5.0",
          "state": {
            "_dom_classes": [],
            "_model_module": "@jupyter-widgets/controls",
            "_model_module_version": "1.5.0",
            "_model_name": "HBoxModel",
            "_view_count": null,
            "_view_module": "@jupyter-widgets/controls",
            "_view_module_version": "1.5.0",
            "_view_name": "HBoxView",
            "box_style": "",
            "children": [
              "IPY_MODEL_2a479a2f73e14920b6b2b69c1c53e1a5",
              "IPY_MODEL_5aaa8081188e4cd8a3a787520f51e494",
              "IPY_MODEL_b392bfef68274b059d7c974f894d0767"
            ],
            "layout": "IPY_MODEL_011c0c8b3e8b4449b0db298a6c7ba484"
          }
        },
        "2a479a2f73e14920b6b2b69c1c53e1a5": {
          "model_module": "@jupyter-widgets/controls",
          "model_name": "HTMLModel",
          "model_module_version": "1.5.0",
          "state": {
            "_dom_classes": [],
            "_model_module": "@jupyter-widgets/controls",
            "_model_module_version": "1.5.0",
            "_model_name": "HTMLModel",
            "_view_count": null,
            "_view_module": "@jupyter-widgets/controls",
            "_view_module_version": "1.5.0",
            "_view_name": "HTMLView",
            "description": "",
            "description_tooltip": null,
            "layout": "IPY_MODEL_6b745f0868504baa8d0aa48ad0cdb05a",
            "placeholder": "​",
            "style": "IPY_MODEL_f6b7988297a04eeb83d4b67c0d072613",
            "value": "merges.txt: 100%"
          }
        },
        "5aaa8081188e4cd8a3a787520f51e494": {
          "model_module": "@jupyter-widgets/controls",
          "model_name": "FloatProgressModel",
          "model_module_version": "1.5.0",
          "state": {
            "_dom_classes": [],
            "_model_module": "@jupyter-widgets/controls",
            "_model_module_version": "1.5.0",
            "_model_name": "FloatProgressModel",
            "_view_count": null,
            "_view_module": "@jupyter-widgets/controls",
            "_view_module_version": "1.5.0",
            "_view_name": "ProgressView",
            "bar_style": "success",
            "description": "",
            "description_tooltip": null,
            "layout": "IPY_MODEL_e875cf8caaf7429b8419446b2c6cf62c",
            "max": 1671839,
            "min": 0,
            "orientation": "horizontal",
            "style": "IPY_MODEL_1314d0f4afda4d9ea0cbd034f9d3883e",
            "value": 1671839
          }
        },
        "b392bfef68274b059d7c974f894d0767": {
          "model_module": "@jupyter-widgets/controls",
          "model_name": "HTMLModel",
          "model_module_version": "1.5.0",
          "state": {
            "_dom_classes": [],
            "_model_module": "@jupyter-widgets/controls",
            "_model_module_version": "1.5.0",
            "_model_name": "HTMLModel",
            "_view_count": null,
            "_view_module": "@jupyter-widgets/controls",
            "_view_module_version": "1.5.0",
            "_view_name": "HTMLView",
            "description": "",
            "description_tooltip": null,
            "layout": "IPY_MODEL_892daaeb9d154e87b5c80a55fcfdde7c",
            "placeholder": "​",
            "style": "IPY_MODEL_b3e7051737e0439e83e18e09966f2aa8",
            "value": " 1.67M/1.67M [00:00&lt;00:00, 12.9MB/s]"
          }
        },
        "011c0c8b3e8b4449b0db298a6c7ba484": {
          "model_module": "@jupyter-widgets/base",
          "model_name": "LayoutModel",
          "model_module_version": "1.2.0",
          "state": {
            "_model_module": "@jupyter-widgets/base",
            "_model_module_version": "1.2.0",
            "_model_name": "LayoutModel",
            "_view_count": null,
            "_view_module": "@jupyter-widgets/base",
            "_view_module_version": "1.2.0",
            "_view_name": "LayoutView",
            "align_content": null,
            "align_items": null,
            "align_self": null,
            "border": null,
            "bottom": null,
            "display": null,
            "flex": null,
            "flex_flow": null,
            "grid_area": null,
            "grid_auto_columns": null,
            "grid_auto_flow": null,
            "grid_auto_rows": null,
            "grid_column": null,
            "grid_gap": null,
            "grid_row": null,
            "grid_template_areas": null,
            "grid_template_columns": null,
            "grid_template_rows": null,
            "height": null,
            "justify_content": null,
            "justify_items": null,
            "left": null,
            "margin": null,
            "max_height": null,
            "max_width": null,
            "min_height": null,
            "min_width": null,
            "object_fit": null,
            "object_position": null,
            "order": null,
            "overflow": null,
            "overflow_x": null,
            "overflow_y": null,
            "padding": null,
            "right": null,
            "top": null,
            "visibility": null,
            "width": null
          }
        },
        "6b745f0868504baa8d0aa48ad0cdb05a": {
          "model_module": "@jupyter-widgets/base",
          "model_name": "LayoutModel",
          "model_module_version": "1.2.0",
          "state": {
            "_model_module": "@jupyter-widgets/base",
            "_model_module_version": "1.2.0",
            "_model_name": "LayoutModel",
            "_view_count": null,
            "_view_module": "@jupyter-widgets/base",
            "_view_module_version": "1.2.0",
            "_view_name": "LayoutView",
            "align_content": null,
            "align_items": null,
            "align_self": null,
            "border": null,
            "bottom": null,
            "display": null,
            "flex": null,
            "flex_flow": null,
            "grid_area": null,
            "grid_auto_columns": null,
            "grid_auto_flow": null,
            "grid_auto_rows": null,
            "grid_column": null,
            "grid_gap": null,
            "grid_row": null,
            "grid_template_areas": null,
            "grid_template_columns": null,
            "grid_template_rows": null,
            "height": null,
            "justify_content": null,
            "justify_items": null,
            "left": null,
            "margin": null,
            "max_height": null,
            "max_width": null,
            "min_height": null,
            "min_width": null,
            "object_fit": null,
            "object_position": null,
            "order": null,
            "overflow": null,
            "overflow_x": null,
            "overflow_y": null,
            "padding": null,
            "right": null,
            "top": null,
            "visibility": null,
            "width": null
          }
        },
        "f6b7988297a04eeb83d4b67c0d072613": {
          "model_module": "@jupyter-widgets/controls",
          "model_name": "DescriptionStyleModel",
          "model_module_version": "1.5.0",
          "state": {
            "_model_module": "@jupyter-widgets/controls",
            "_model_module_version": "1.5.0",
            "_model_name": "DescriptionStyleModel",
            "_view_count": null,
            "_view_module": "@jupyter-widgets/base",
            "_view_module_version": "1.2.0",
            "_view_name": "StyleView",
            "description_width": ""
          }
        },
        "e875cf8caaf7429b8419446b2c6cf62c": {
          "model_module": "@jupyter-widgets/base",
          "model_name": "LayoutModel",
          "model_module_version": "1.2.0",
          "state": {
            "_model_module": "@jupyter-widgets/base",
            "_model_module_version": "1.2.0",
            "_model_name": "LayoutModel",
            "_view_count": null,
            "_view_module": "@jupyter-widgets/base",
            "_view_module_version": "1.2.0",
            "_view_name": "LayoutView",
            "align_content": null,
            "align_items": null,
            "align_self": null,
            "border": null,
            "bottom": null,
            "display": null,
            "flex": null,
            "flex_flow": null,
            "grid_area": null,
            "grid_auto_columns": null,
            "grid_auto_flow": null,
            "grid_auto_rows": null,
            "grid_column": null,
            "grid_gap": null,
            "grid_row": null,
            "grid_template_areas": null,
            "grid_template_columns": null,
            "grid_template_rows": null,
            "height": null,
            "justify_content": null,
            "justify_items": null,
            "left": null,
            "margin": null,
            "max_height": null,
            "max_width": null,
            "min_height": null,
            "min_width": null,
            "object_fit": null,
            "object_position": null,
            "order": null,
            "overflow": null,
            "overflow_x": null,
            "overflow_y": null,
            "padding": null,
            "right": null,
            "top": null,
            "visibility": null,
            "width": null
          }
        },
        "1314d0f4afda4d9ea0cbd034f9d3883e": {
          "model_module": "@jupyter-widgets/controls",
          "model_name": "ProgressStyleModel",
          "model_module_version": "1.5.0",
          "state": {
            "_model_module": "@jupyter-widgets/controls",
            "_model_module_version": "1.5.0",
            "_model_name": "ProgressStyleModel",
            "_view_count": null,
            "_view_module": "@jupyter-widgets/base",
            "_view_module_version": "1.2.0",
            "_view_name": "StyleView",
            "bar_color": null,
            "description_width": ""
          }
        },
        "892daaeb9d154e87b5c80a55fcfdde7c": {
          "model_module": "@jupyter-widgets/base",
          "model_name": "LayoutModel",
          "model_module_version": "1.2.0",
          "state": {
            "_model_module": "@jupyter-widgets/base",
            "_model_module_version": "1.2.0",
            "_model_name": "LayoutModel",
            "_view_count": null,
            "_view_module": "@jupyter-widgets/base",
            "_view_module_version": "1.2.0",
            "_view_name": "LayoutView",
            "align_content": null,
            "align_items": null,
            "align_self": null,
            "border": null,
            "bottom": null,
            "display": null,
            "flex": null,
            "flex_flow": null,
            "grid_area": null,
            "grid_auto_columns": null,
            "grid_auto_flow": null,
            "grid_auto_rows": null,
            "grid_column": null,
            "grid_gap": null,
            "grid_row": null,
            "grid_template_areas": null,
            "grid_template_columns": null,
            "grid_template_rows": null,
            "height": null,
            "justify_content": null,
            "justify_items": null,
            "left": null,
            "margin": null,
            "max_height": null,
            "max_width": null,
            "min_height": null,
            "min_width": null,
            "object_fit": null,
            "object_position": null,
            "order": null,
            "overflow": null,
            "overflow_x": null,
            "overflow_y": null,
            "padding": null,
            "right": null,
            "top": null,
            "visibility": null,
            "width": null
          }
        },
        "b3e7051737e0439e83e18e09966f2aa8": {
          "model_module": "@jupyter-widgets/controls",
          "model_name": "DescriptionStyleModel",
          "model_module_version": "1.5.0",
          "state": {
            "_model_module": "@jupyter-widgets/controls",
            "_model_module_version": "1.5.0",
            "_model_name": "DescriptionStyleModel",
            "_view_count": null,
            "_view_module": "@jupyter-widgets/base",
            "_view_module_version": "1.2.0",
            "_view_name": "StyleView",
            "description_width": ""
          }
        },
        "baa3f264f7b440e58ebe8c6da9b99a2b": {
          "model_module": "@jupyter-widgets/controls",
          "model_name": "HBoxModel",
          "model_module_version": "1.5.0",
          "state": {
            "_dom_classes": [],
            "_model_module": "@jupyter-widgets/controls",
            "_model_module_version": "1.5.0",
            "_model_name": "HBoxModel",
            "_view_count": null,
            "_view_module": "@jupyter-widgets/controls",
            "_view_module_version": "1.5.0",
            "_view_name": "HBoxView",
            "box_style": "",
            "children": [
              "IPY_MODEL_1e6ae29ab82c4579af607915a8626f52",
              "IPY_MODEL_423dfa2c51564f6188c0c31a99339851",
              "IPY_MODEL_3e7ab2a29b5a4990b31b496a39de963b"
            ],
            "layout": "IPY_MODEL_1f58eeeca1c24b1ea0a621f16bab0843"
          }
        },
        "1e6ae29ab82c4579af607915a8626f52": {
          "model_module": "@jupyter-widgets/controls",
          "model_name": "HTMLModel",
          "model_module_version": "1.5.0",
          "state": {
            "_dom_classes": [],
            "_model_module": "@jupyter-widgets/controls",
            "_model_module_version": "1.5.0",
            "_model_name": "HTMLModel",
            "_view_count": null,
            "_view_module": "@jupyter-widgets/controls",
            "_view_module_version": "1.5.0",
            "_view_name": "HTMLView",
            "description": "",
            "description_tooltip": null,
            "layout": "IPY_MODEL_900d30214e824a2cb972e220290e0296",
            "placeholder": "​",
            "style": "IPY_MODEL_8dc9e954d4b248d889164a0bb97bb8a2",
            "value": "tokenizer.json: 100%"
          }
        },
        "423dfa2c51564f6188c0c31a99339851": {
          "model_module": "@jupyter-widgets/controls",
          "model_name": "FloatProgressModel",
          "model_module_version": "1.5.0",
          "state": {
            "_dom_classes": [],
            "_model_module": "@jupyter-widgets/controls",
            "_model_module_version": "1.5.0",
            "_model_name": "FloatProgressModel",
            "_view_count": null,
            "_view_module": "@jupyter-widgets/controls",
            "_view_module_version": "1.5.0",
            "_view_name": "ProgressView",
            "bar_style": "success",
            "description": "",
            "description_tooltip": null,
            "layout": "IPY_MODEL_dfe5c1f2f3f64546a4d1dc54d04623f2",
            "max": 7031645,
            "min": 0,
            "orientation": "horizontal",
            "style": "IPY_MODEL_f29a9bdefc4a44d8b2bd69efe2c64de5",
            "value": 7031645
          }
        },
        "3e7ab2a29b5a4990b31b496a39de963b": {
          "model_module": "@jupyter-widgets/controls",
          "model_name": "HTMLModel",
          "model_module_version": "1.5.0",
          "state": {
            "_dom_classes": [],
            "_model_module": "@jupyter-widgets/controls",
            "_model_module_version": "1.5.0",
            "_model_name": "HTMLModel",
            "_view_count": null,
            "_view_module": "@jupyter-widgets/controls",
            "_view_module_version": "1.5.0",
            "_view_name": "HTMLView",
            "description": "",
            "description_tooltip": null,
            "layout": "IPY_MODEL_63183bb5f43746c8b95e5eb377af0edb",
            "placeholder": "​",
            "style": "IPY_MODEL_20574b14179f4193afb67efb59e6cb83",
            "value": " 7.03M/7.03M [00:00&lt;00:00, 17.5MB/s]"
          }
        },
        "1f58eeeca1c24b1ea0a621f16bab0843": {
          "model_module": "@jupyter-widgets/base",
          "model_name": "LayoutModel",
          "model_module_version": "1.2.0",
          "state": {
            "_model_module": "@jupyter-widgets/base",
            "_model_module_version": "1.2.0",
            "_model_name": "LayoutModel",
            "_view_count": null,
            "_view_module": "@jupyter-widgets/base",
            "_view_module_version": "1.2.0",
            "_view_name": "LayoutView",
            "align_content": null,
            "align_items": null,
            "align_self": null,
            "border": null,
            "bottom": null,
            "display": null,
            "flex": null,
            "flex_flow": null,
            "grid_area": null,
            "grid_auto_columns": null,
            "grid_auto_flow": null,
            "grid_auto_rows": null,
            "grid_column": null,
            "grid_gap": null,
            "grid_row": null,
            "grid_template_areas": null,
            "grid_template_columns": null,
            "grid_template_rows": null,
            "height": null,
            "justify_content": null,
            "justify_items": null,
            "left": null,
            "margin": null,
            "max_height": null,
            "max_width": null,
            "min_height": null,
            "min_width": null,
            "object_fit": null,
            "object_position": null,
            "order": null,
            "overflow": null,
            "overflow_x": null,
            "overflow_y": null,
            "padding": null,
            "right": null,
            "top": null,
            "visibility": null,
            "width": null
          }
        },
        "900d30214e824a2cb972e220290e0296": {
          "model_module": "@jupyter-widgets/base",
          "model_name": "LayoutModel",
          "model_module_version": "1.2.0",
          "state": {
            "_model_module": "@jupyter-widgets/base",
            "_model_module_version": "1.2.0",
            "_model_name": "LayoutModel",
            "_view_count": null,
            "_view_module": "@jupyter-widgets/base",
            "_view_module_version": "1.2.0",
            "_view_name": "LayoutView",
            "align_content": null,
            "align_items": null,
            "align_self": null,
            "border": null,
            "bottom": null,
            "display": null,
            "flex": null,
            "flex_flow": null,
            "grid_area": null,
            "grid_auto_columns": null,
            "grid_auto_flow": null,
            "grid_auto_rows": null,
            "grid_column": null,
            "grid_gap": null,
            "grid_row": null,
            "grid_template_areas": null,
            "grid_template_columns": null,
            "grid_template_rows": null,
            "height": null,
            "justify_content": null,
            "justify_items": null,
            "left": null,
            "margin": null,
            "max_height": null,
            "max_width": null,
            "min_height": null,
            "min_width": null,
            "object_fit": null,
            "object_position": null,
            "order": null,
            "overflow": null,
            "overflow_x": null,
            "overflow_y": null,
            "padding": null,
            "right": null,
            "top": null,
            "visibility": null,
            "width": null
          }
        },
        "8dc9e954d4b248d889164a0bb97bb8a2": {
          "model_module": "@jupyter-widgets/controls",
          "model_name": "DescriptionStyleModel",
          "model_module_version": "1.5.0",
          "state": {
            "_model_module": "@jupyter-widgets/controls",
            "_model_module_version": "1.5.0",
            "_model_name": "DescriptionStyleModel",
            "_view_count": null,
            "_view_module": "@jupyter-widgets/base",
            "_view_module_version": "1.2.0",
            "_view_name": "StyleView",
            "description_width": ""
          }
        },
        "dfe5c1f2f3f64546a4d1dc54d04623f2": {
          "model_module": "@jupyter-widgets/base",
          "model_name": "LayoutModel",
          "model_module_version": "1.2.0",
          "state": {
            "_model_module": "@jupyter-widgets/base",
            "_model_module_version": "1.2.0",
            "_model_name": "LayoutModel",
            "_view_count": null,
            "_view_module": "@jupyter-widgets/base",
            "_view_module_version": "1.2.0",
            "_view_name": "LayoutView",
            "align_content": null,
            "align_items": null,
            "align_self": null,
            "border": null,
            "bottom": null,
            "display": null,
            "flex": null,
            "flex_flow": null,
            "grid_area": null,
            "grid_auto_columns": null,
            "grid_auto_flow": null,
            "grid_auto_rows": null,
            "grid_column": null,
            "grid_gap": null,
            "grid_row": null,
            "grid_template_areas": null,
            "grid_template_columns": null,
            "grid_template_rows": null,
            "height": null,
            "justify_content": null,
            "justify_items": null,
            "left": null,
            "margin": null,
            "max_height": null,
            "max_width": null,
            "min_height": null,
            "min_width": null,
            "object_fit": null,
            "object_position": null,
            "order": null,
            "overflow": null,
            "overflow_x": null,
            "overflow_y": null,
            "padding": null,
            "right": null,
            "top": null,
            "visibility": null,
            "width": null
          }
        },
        "f29a9bdefc4a44d8b2bd69efe2c64de5": {
          "model_module": "@jupyter-widgets/controls",
          "model_name": "ProgressStyleModel",
          "model_module_version": "1.5.0",
          "state": {
            "_model_module": "@jupyter-widgets/controls",
            "_model_module_version": "1.5.0",
            "_model_name": "ProgressStyleModel",
            "_view_count": null,
            "_view_module": "@jupyter-widgets/base",
            "_view_module_version": "1.2.0",
            "_view_name": "StyleView",
            "bar_color": null,
            "description_width": ""
          }
        },
        "63183bb5f43746c8b95e5eb377af0edb": {
          "model_module": "@jupyter-widgets/base",
          "model_name": "LayoutModel",
          "model_module_version": "1.2.0",
          "state": {
            "_model_module": "@jupyter-widgets/base",
            "_model_module_version": "1.2.0",
            "_model_name": "LayoutModel",
            "_view_count": null,
            "_view_module": "@jupyter-widgets/base",
            "_view_module_version": "1.2.0",
            "_view_name": "LayoutView",
            "align_content": null,
            "align_items": null,
            "align_self": null,
            "border": null,
            "bottom": null,
            "display": null,
            "flex": null,
            "flex_flow": null,
            "grid_area": null,
            "grid_auto_columns": null,
            "grid_auto_flow": null,
            "grid_auto_rows": null,
            "grid_column": null,
            "grid_gap": null,
            "grid_row": null,
            "grid_template_areas": null,
            "grid_template_columns": null,
            "grid_template_rows": null,
            "height": null,
            "justify_content": null,
            "justify_items": null,
            "left": null,
            "margin": null,
            "max_height": null,
            "max_width": null,
            "min_height": null,
            "min_width": null,
            "object_fit": null,
            "object_position": null,
            "order": null,
            "overflow": null,
            "overflow_x": null,
            "overflow_y": null,
            "padding": null,
            "right": null,
            "top": null,
            "visibility": null,
            "width": null
          }
        },
        "20574b14179f4193afb67efb59e6cb83": {
          "model_module": "@jupyter-widgets/controls",
          "model_name": "DescriptionStyleModel",
          "model_module_version": "1.5.0",
          "state": {
            "_model_module": "@jupyter-widgets/controls",
            "_model_module_version": "1.5.0",
            "_model_name": "DescriptionStyleModel",
            "_view_count": null,
            "_view_module": "@jupyter-widgets/base",
            "_view_module_version": "1.2.0",
            "_view_name": "StyleView",
            "description_width": ""
          }
        }
      }
    }
  },
  "nbformat": 4,
  "nbformat_minor": 0
}